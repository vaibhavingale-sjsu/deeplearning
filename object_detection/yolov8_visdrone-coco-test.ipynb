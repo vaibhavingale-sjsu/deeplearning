{
  "nbformat": 4,
  "nbformat_minor": 0,
  "metadata": {
    "colab": {
      "provenance": [],
      "gpuType": "T4"
    },
    "kernelspec": {
      "name": "python3",
      "display_name": "Python 3"
    },
    "language_info": {
      "name": "python"
    },
    "accelerator": "GPU"
  },
  "cells": [
    {
      "cell_type": "code",
      "execution_count": 1,
      "metadata": {
        "id": "Ajx2jX4O54rQ"
      },
      "outputs": [],
      "source": [
        "import zipfile\n",
        "import requests\n",
        "import cv2\n",
        "import matplotlib.pyplot as plt\n",
        "import glob\n",
        "import random\n",
        "import os"
      ]
    },
    {
      "cell_type": "code",
      "source": [
        "from google.colab import drive\n",
        "drive.mount('/content/drive')"
      ],
      "metadata": {
        "colab": {
          "base_uri": "https://localhost:8080/"
        },
        "id": "gJH082la6fK3",
        "outputId": "1a637c3b-30ab-4f4f-93c9-fbfa4239de8d"
      },
      "execution_count": 3,
      "outputs": [
        {
          "output_type": "stream",
          "name": "stdout",
          "text": [
            "Drive already mounted at /content/drive; to attempt to forcibly remount, call drive.mount(\"/content/drive\", force_remount=True).\n"
          ]
        }
      ]
    },
    {
      "cell_type": "code",
      "source": [
        "\n",
        "!pip install ultralytics"
      ],
      "metadata": {
        "id": "DCf8MOrr6l9d",
        "colab": {
          "base_uri": "https://localhost:8080/"
        },
        "outputId": "e46e8865-f8d6-4deb-998e-e74dc989375f"
      },
      "execution_count": 4,
      "outputs": [
        {
          "output_type": "stream",
          "name": "stdout",
          "text": [
            "Collecting ultralytics\n",
            "  Downloading ultralytics-8.0.209-py3-none-any.whl (645 kB)\n",
            "\u001b[2K     \u001b[90m━━━━━━━━━━━━━━━━━━━━━━━━━━━━━━━━━━━━━━━━\u001b[0m \u001b[32m645.2/645.2 kB\u001b[0m \u001b[31m6.1 MB/s\u001b[0m eta \u001b[36m0:00:00\u001b[0m\n",
            "\u001b[?25hRequirement already satisfied: matplotlib>=3.3.0 in /usr/local/lib/python3.10/dist-packages (from ultralytics) (3.7.1)\n",
            "Requirement already satisfied: numpy>=1.22.2 in /usr/local/lib/python3.10/dist-packages (from ultralytics) (1.23.5)\n",
            "Requirement already satisfied: opencv-python>=4.6.0 in /usr/local/lib/python3.10/dist-packages (from ultralytics) (4.8.0.76)\n",
            "Requirement already satisfied: pillow>=7.1.2 in /usr/local/lib/python3.10/dist-packages (from ultralytics) (9.4.0)\n",
            "Requirement already satisfied: pyyaml>=5.3.1 in /usr/local/lib/python3.10/dist-packages (from ultralytics) (6.0.1)\n",
            "Requirement already satisfied: requests>=2.23.0 in /usr/local/lib/python3.10/dist-packages (from ultralytics) (2.31.0)\n",
            "Requirement already satisfied: scipy>=1.4.1 in /usr/local/lib/python3.10/dist-packages (from ultralytics) (1.11.3)\n",
            "Requirement already satisfied: torch>=1.8.0 in /usr/local/lib/python3.10/dist-packages (from ultralytics) (2.1.0+cu118)\n",
            "Requirement already satisfied: torchvision>=0.9.0 in /usr/local/lib/python3.10/dist-packages (from ultralytics) (0.16.0+cu118)\n",
            "Requirement already satisfied: tqdm>=4.64.0 in /usr/local/lib/python3.10/dist-packages (from ultralytics) (4.66.1)\n",
            "Requirement already satisfied: pandas>=1.1.4 in /usr/local/lib/python3.10/dist-packages (from ultralytics) (1.5.3)\n",
            "Requirement already satisfied: seaborn>=0.11.0 in /usr/local/lib/python3.10/dist-packages (from ultralytics) (0.12.2)\n",
            "Requirement already satisfied: psutil in /usr/local/lib/python3.10/dist-packages (from ultralytics) (5.9.5)\n",
            "Requirement already satisfied: py-cpuinfo in /usr/local/lib/python3.10/dist-packages (from ultralytics) (9.0.0)\n",
            "Collecting thop>=0.1.1 (from ultralytics)\n",
            "  Downloading thop-0.1.1.post2209072238-py3-none-any.whl (15 kB)\n",
            "Requirement already satisfied: contourpy>=1.0.1 in /usr/local/lib/python3.10/dist-packages (from matplotlib>=3.3.0->ultralytics) (1.2.0)\n",
            "Requirement already satisfied: cycler>=0.10 in /usr/local/lib/python3.10/dist-packages (from matplotlib>=3.3.0->ultralytics) (0.12.1)\n",
            "Requirement already satisfied: fonttools>=4.22.0 in /usr/local/lib/python3.10/dist-packages (from matplotlib>=3.3.0->ultralytics) (4.44.0)\n",
            "Requirement already satisfied: kiwisolver>=1.0.1 in /usr/local/lib/python3.10/dist-packages (from matplotlib>=3.3.0->ultralytics) (1.4.5)\n",
            "Requirement already satisfied: packaging>=20.0 in /usr/local/lib/python3.10/dist-packages (from matplotlib>=3.3.0->ultralytics) (23.2)\n",
            "Requirement already satisfied: pyparsing>=2.3.1 in /usr/local/lib/python3.10/dist-packages (from matplotlib>=3.3.0->ultralytics) (3.1.1)\n",
            "Requirement already satisfied: python-dateutil>=2.7 in /usr/local/lib/python3.10/dist-packages (from matplotlib>=3.3.0->ultralytics) (2.8.2)\n",
            "Requirement already satisfied: pytz>=2020.1 in /usr/local/lib/python3.10/dist-packages (from pandas>=1.1.4->ultralytics) (2023.3.post1)\n",
            "Requirement already satisfied: charset-normalizer<4,>=2 in /usr/local/lib/python3.10/dist-packages (from requests>=2.23.0->ultralytics) (3.3.2)\n",
            "Requirement already satisfied: idna<4,>=2.5 in /usr/local/lib/python3.10/dist-packages (from requests>=2.23.0->ultralytics) (3.4)\n",
            "Requirement already satisfied: urllib3<3,>=1.21.1 in /usr/local/lib/python3.10/dist-packages (from requests>=2.23.0->ultralytics) (2.0.7)\n",
            "Requirement already satisfied: certifi>=2017.4.17 in /usr/local/lib/python3.10/dist-packages (from requests>=2.23.0->ultralytics) (2023.7.22)\n",
            "Requirement already satisfied: filelock in /usr/local/lib/python3.10/dist-packages (from torch>=1.8.0->ultralytics) (3.13.1)\n",
            "Requirement already satisfied: typing-extensions in /usr/local/lib/python3.10/dist-packages (from torch>=1.8.0->ultralytics) (4.5.0)\n",
            "Requirement already satisfied: sympy in /usr/local/lib/python3.10/dist-packages (from torch>=1.8.0->ultralytics) (1.12)\n",
            "Requirement already satisfied: networkx in /usr/local/lib/python3.10/dist-packages (from torch>=1.8.0->ultralytics) (3.2.1)\n",
            "Requirement already satisfied: jinja2 in /usr/local/lib/python3.10/dist-packages (from torch>=1.8.0->ultralytics) (3.1.2)\n",
            "Requirement already satisfied: fsspec in /usr/local/lib/python3.10/dist-packages (from torch>=1.8.0->ultralytics) (2023.6.0)\n",
            "Requirement already satisfied: triton==2.1.0 in /usr/local/lib/python3.10/dist-packages (from torch>=1.8.0->ultralytics) (2.1.0)\n",
            "Requirement already satisfied: six>=1.5 in /usr/local/lib/python3.10/dist-packages (from python-dateutil>=2.7->matplotlib>=3.3.0->ultralytics) (1.16.0)\n",
            "Requirement already satisfied: MarkupSafe>=2.0 in /usr/local/lib/python3.10/dist-packages (from jinja2->torch>=1.8.0->ultralytics) (2.1.3)\n",
            "Requirement already satisfied: mpmath>=0.19 in /usr/local/lib/python3.10/dist-packages (from sympy->torch>=1.8.0->ultralytics) (1.3.0)\n",
            "Installing collected packages: thop, ultralytics\n",
            "Successfully installed thop-0.1.1.post2209072238 ultralytics-8.0.209\n"
          ]
        }
      ]
    },
    {
      "cell_type": "code",
      "source": [
        "!rm -rf /content/VisDrone2019-DET-val\n"
      ],
      "metadata": {
        "id": "51uUZJc0m_2y"
      },
      "execution_count": 5,
      "outputs": []
    },
    {
      "cell_type": "code",
      "source": [
        "%mkdir /content/dataset\n",
        "%cd /content/dataset"
      ],
      "metadata": {
        "colab": {
          "base_uri": "https://localhost:8080/"
        },
        "id": "kk006poy7LWV",
        "outputId": "8dae42cb-bb9a-4d7d-fcb1-5944c5533356"
      },
      "execution_count": 7,
      "outputs": [
        {
          "output_type": "stream",
          "name": "stdout",
          "text": [
            "/content/dataset\n"
          ]
        }
      ]
    },
    {
      "cell_type": "code",
      "source": [
        "!unzip /content/drive/MyDrive/258-DL/HW2-ObjectDetection/datasets/visdrone/VisDrone2019-DET-val.zip -d /content/dataset/"
      ],
      "metadata": {
        "id": "WDw0V5PK6u0j"
      },
      "execution_count": null,
      "outputs": []
    },
    {
      "cell_type": "code",
      "source": [
        "!yolo task=detect \\\n",
        "mode=predict \\\n",
        "source=\"/content/drive/MyDrive/258-DL/HW2-ObjectDetection/datasets/images\" \\\n",
        "imgsz=1280 \\\n",
        "save=True \\\n",
        "save_conf=True \\\n",
        "save_txt=True \\\n",
        "name=yolov8n_v8_50e_infer1280 \\\n",
        "hide_labels=False"
      ],
      "metadata": {
        "id": "IlC3rbVJ7E8K"
      },
      "execution_count": null,
      "outputs": []
    },
    {
      "cell_type": "code",
      "source": [
        "import json\n",
        "import os\n",
        "from PIL import Image\n",
        "\n",
        "def create_coco_annotation(visdrone_dir):\n",
        "    # Initialize COCO dataset structure\n",
        "    coco_dataset = {\n",
        "        \"images\": [],\n",
        "        \"annotations\": [],\n",
        "        \"categories\": []\n",
        "    }\n",
        "\n",
        "    # Define your categories here\n",
        "    categories = {\n",
        "        0: \"ignore\",\n",
        "        1: \"pedestrian\",\n",
        "        2: \"people\",\n",
        "        3: \"bicycle\",\n",
        "        4: \"car\",\n",
        "        5: \"van\",\n",
        "        6: \"truck\",\n",
        "        7: \"tricycle\",\n",
        "        8: \"awning-tricycle\",\n",
        "        9: \"bus\",\n",
        "        10: \"motor\",\n",
        "        11: \"others\"\n",
        "    }\n",
        "\n",
        "    # Adding categories to COCO dataset\n",
        "    for id, name in categories.items():\n",
        "        coco_dataset[\"categories\"].append({\"id\": id, \"name\": name})\n",
        "\n",
        "    # Process each image and its annotations\n",
        "    annotation_id = 1\n",
        "    for image_file in os.listdir(os.path.join(visdrone_dir, \"images\")):\n",
        "        # Extracting image name without extension\n",
        "        image_name = os.path.splitext(image_file)[0]\n",
        "\n",
        "        # Load image to get width and height\n",
        "        image_path = os.path.join(visdrone_dir, \"images\", image_file)\n",
        "        with Image.open(image_path) as img:\n",
        "            width, height = img.size\n",
        "\n",
        "        # Add image information to COCO dataset\n",
        "        coco_dataset[\"images\"].append({\n",
        "            \"id\": image_name,  # Using image name without extension as ID\n",
        "            \"width\": width,\n",
        "            \"height\": height,\n",
        "            \"file_name\": image_file\n",
        "        })\n",
        "\n",
        "        # Read corresponding annotation file\n",
        "        annotation_file = image_file.replace('.jpg', '.txt').replace('.png', '.txt')\n",
        "        with open(os.path.join(visdrone_dir, \"annotations\", annotation_file)) as f:\n",
        "            for line in f:\n",
        "                # Parse VisDrone annotation line\n",
        "                x, y, w, h, category_id, _, _, _ = map(int, line.split(','))\n",
        "\n",
        "                # Add annotation to COCO dataset\n",
        "                coco_dataset[\"annotations\"].append({\n",
        "                    \"id\": annotation_id,\n",
        "                    \"image_id\": image_name,  # Using image name without extension as ID\n",
        "                    \"category_id\": category_id,\n",
        "                    \"bbox\": [x, y, w, h],\n",
        "                    \"area\": w * h,\n",
        "                    \"iscrowd\": 0\n",
        "                })\n",
        "                annotation_id += 1\n",
        "\n",
        "    # Save COCO dataset to a JSON file\n",
        "    with open('visdrone_coco.json', 'w') as f:\n",
        "        json.dump(coco_dataset, f, indent=2)\n",
        "\n",
        "# Example usage\n",
        "create_coco_annotation('/content/dataset/VisDrone2019-DET-val/')\n"
      ],
      "metadata": {
        "id": "t5EwmuXqIxx7"
      },
      "execution_count": 16,
      "outputs": []
    },
    {
      "cell_type": "code",
      "source": [
        "from ultralytics import YOLO\n",
        "model = YOLO()\n",
        "# model = YOLO(\"/content/ultra/runs/detect/train3/weights/best.pt\")\n",
        "# results = model.predict(\"/content/drive/MyDrive/258-DL/HW2-ObjectDetection/datasets/visdrone/VisDrone2019-DET-val/images\")\n",
        "results = model.predict(\"/content/dataset/VisDrone2019-DET-val/images\")\n",
        "# results = model.predict(\"/content/ultra/datasets/VisDrone/VisDrone2019-DET-val/images/0000271_01401_d_0000380.jpg\")\n",
        "# results = model.predict(\"/content/images\")"
      ],
      "metadata": {
        "id": "EI06lS9U_UaZ"
      },
      "execution_count": null,
      "outputs": []
    },
    {
      "cell_type": "code",
      "source": [
        "import json\n",
        "\n",
        "json_list = []\n",
        "\n",
        "for result in results:\n",
        "  # print(result)\n",
        "  base_name = os.path.basename(result.path)\n",
        "  name, ext = os.path.splitext(base_name)\n",
        "  image_id = str(name)\n",
        "  # print(image_id)\n",
        "\n",
        "  output = []\n",
        "  for box in result.boxes:\n",
        "      # print(box)\n",
        "\n",
        "      x1, y1, x2, y2 = [\n",
        "        round(x,2) for x in box.xyxy[0].tolist()\n",
        "      ]\n",
        "      # class_id = box.cls[0].item()\n",
        "      class_id = int(box.cls[0].item())\n",
        "      prob = round(box.conf[0].item(), 3)\n",
        "      output.append([\n",
        "        x1, y1, x2, y2, int(class_id), prob\n",
        "      ])\n",
        "  # print(output)\n",
        "\n",
        "  json_object = {\n",
        "      \"image_id\": image_id,\n",
        "      \"category_id\": class_id,\n",
        "      \"bbox\": [x1, y1, x2, y2],\n",
        "      \"score\": prob\n",
        "  }\n",
        "  json_list.append(json_object)\n",
        "\n",
        "print(json_list)\n",
        "\n",
        "filename = '/content/inference-coco.json'\n",
        "\n",
        "with open(filename, 'w') as file:\n",
        "    json.dump(json_list, file, indent=4)\n",
        "\n"
      ],
      "metadata": {
        "colab": {
          "base_uri": "https://localhost:8080/"
        },
        "id": "JgAxf0CK8T_B",
        "outputId": "d2717d36-137e-4c00-d00d-422bac8ac12b"
      },
      "execution_count": 11,
      "outputs": [
        {
          "output_type": "stream",
          "name": "stdout",
          "text": [
            "[{'image_id': '0000001_02999_d_0000005', 'category_id': 2, 'bbox': [619.18, 279.15, 712.4, 347.42], 'score': 0.263}, {'image_id': '0000001_03499_d_0000006', 'category_id': 2, 'bbox': [1038.49, 159.26, 1122.96, 196.46], 'score': 0.314}, {'image_id': '0000001_03999_d_0000007', 'category_id': 2, 'bbox': [838.26, 467.31, 885.0, 502.08], 'score': 0.345}, {'image_id': '0000001_04527_d_0000008', 'category_id': 2, 'bbox': [1545.86, 796.4, 1579.73, 828.66], 'score': 0.264}, {'image_id': '0000001_05249_d_0000009', 'category_id': 0, 'bbox': [1256.03, 983.08, 1293.54, 1041.77], 'score': 0.259}, {'image_id': '0000001_05499_d_0000010', 'category_id': 2, 'bbox': [477.69, 409.72, 555.86, 470.36], 'score': 0.297}, {'image_id': '0000001_05999_d_0000011', 'category_id': 0, 'bbox': [1547.86, 994.01, 1578.24, 1056.69], 'score': 0.252}, {'image_id': '0000001_07999_d_0000012', 'category_id': 2, 'bbox': [813.67, 405.13, 877.96, 439.08], 'score': 0.254}, {'image_id': '0000001_08414_d_0000013', 'category_id': 2, 'bbox': [1095.34, 460.94, 1166.3, 500.61], 'score': 0.261}, {'image_id': '0000021_00000_d_0000001', 'category_id': 0, 'bbox': [503.56, 270.66, 518.67, 322.29], 'score': 0.26}, {'image_id': '0000021_00500_d_0000002', 'category_id': 2, 'bbox': [0.14, 386.01, 78.01, 475.44], 'score': 0.256}, {'image_id': '0000021_00800_d_0000003', 'category_id': 19, 'bbox': [949.27, 203.5, 959.6, 233.17], 'score': 0.265}, {'image_id': '0000022_00000_d_0000004', 'category_id': 0, 'bbox': [708.21, 194.83, 721.93, 217.97], 'score': 0.316}, {'image_id': '0000022_00500_d_0000005', 'category_id': 3, 'bbox': [479.2, 248.19, 504.35, 283.51], 'score': 0.305}, {'image_id': '0000022_01036_d_0000006', 'category_id': 0, 'bbox': [230.55, 256.14, 251.6, 295.13], 'score': 0.273}, {'image_id': '0000022_01251_d_0000007', 'category_id': 0, 'bbox': [189.25, 193.1, 220.0, 262.07], 'score': 0.25}, {'image_id': '0000023_00000_d_0000008', 'category_id': 0, 'bbox': [708.21, 194.83, 721.93, 217.97], 'score': 0.316}, {'image_id': '0000023_00300_d_0000009', 'category_id': 0, 'bbox': [563.87, 194.86, 578.17, 218.35], 'score': 0.255}, {'image_id': '0000023_00868_d_0000010', 'category_id': 0, 'bbox': [216.59, 87.98, 232.93, 131.11], 'score': 0.25}, {'image_id': '0000023_01233_d_0000011', 'category_id': 0, 'bbox': [636.09, 148.82, 657.67, 190.43], 'score': 0.255}, {'image_id': '0000024_00000_d_0000012', 'category_id': 0, 'bbox': [395.5, 290.47, 411.99, 342.77], 'score': 0.34}, {'image_id': '0000024_00500_d_0000013', 'category_id': 0, 'bbox': [556.02, 244.16, 586.96, 319.41], 'score': 0.34}, {'image_id': '0000024_01000_d_0000014', 'category_id': 0, 'bbox': [424.61, 234.41, 438.98, 281.25], 'score': 0.274}, {'image_id': '0000024_01543_d_0000015', 'category_id': 0, 'bbox': [44.93, 242.53, 71.27, 300.43], 'score': 0.33}, {'image_id': '0000026_00000_d_0000024', 'category_id': 5, 'bbox': [312.52, 479.52, 510.57, 664.31], 'score': 0.313}, {'image_id': '0000026_00500_d_0000025', 'category_id': 2, 'bbox': [591.36, 196.36, 690.31, 409.24], 'score': 0.267}, {'image_id': '0000026_01000_d_0000026', 'category_id': 2, 'bbox': [25.95, 1.08, 182.34, 67.69], 'score': 0.256}, {'image_id': '0000026_01500_d_0000027', 'category_id': 0, 'bbox': [575.48, 85.25, 593.09, 120.99], 'score': 0.284}, {'image_id': '0000026_02000_d_0000028', 'category_id': 39, 'bbox': [740.22, 1.51, 795.12, 45.02], 'score': 0.254}, {'image_id': '0000026_02500_d_0000029', 'category_id': 0, 'bbox': [531.23, 56.76, 555.79, 127.8], 'score': 0.28}, {'image_id': '0000026_03000_d_0000030', 'category_id': 2, 'bbox': [1071.19, 4.35, 1215.33, 75.79], 'score': 0.361}, {'image_id': '0000026_03500_d_0000031', 'category_id': 2, 'bbox': [510.41, 0.49, 629.89, 31.64], 'score': 0.276}, {'image_id': '0000026_04000_d_0000032', 'category_id': 2, 'bbox': [968.87, 27.42, 1034.16, 67.22], 'score': 0.292}, {'image_id': '0000026_04500_d_0000033', 'category_id': 5, 'bbox': [55.51, 230.85, 592.48, 648.41], 'score': 0.265}, {'image_id': '0000026_04978_d_0000034', 'category_id': 2, 'bbox': [785.76, 256.17, 818.53, 281.49], 'score': 0.305}, {'image_id': '0000055_00000_d_0000109', 'category_id': 0, 'bbox': [330.72, 273.55, 345.46, 314.18], 'score': 0.252}, {'image_id': '0000055_00714_d_0000110', 'category_id': 25, 'bbox': [0.0, 238.08, 72.93, 297.27], 'score': 0.256}, {'image_id': '0000069_00001_d_0000001', 'category_id': 0, 'bbox': [1174.38, 80.75, 1201.4, 131.64], 'score': 0.271}, {'image_id': '0000069_00483_d_0000002', 'category_id': 0, 'bbox': [736.15, 487.1, 784.48, 579.53], 'score': 0.318}, {'image_id': '0000069_00713_d_0000003', 'category_id': 2, 'bbox': [299.56, 4.31, 388.86, 45.57], 'score': 0.278}, {'image_id': '0000069_01109_d_0000004', 'category_id': 0, 'bbox': [1145.16, 464.61, 1199.62, 581.16], 'score': 0.288}, {'image_id': '0000069_01878_d_0000005', 'category_id': 0, 'bbox': [1110.84, 5.34, 1130.18, 54.6], 'score': 0.255}, {'image_id': '0000069_02163_d_0000006', 'category_id': 0, 'bbox': [0.08, 95.68, 19.76, 140.46], 'score': 0.253}, {'image_id': '0000069_02480_d_0000007', 'category_id': 0, 'bbox': [931.34, 259.2, 974.3, 321.31], 'score': 0.265}, {'image_id': '0000072_02834_d_0000003', 'category_id': 0, 'bbox': [1267.2, 549.76, 1306.43, 612.29], 'score': 0.264}, {'image_id': '0000076_02142_d_0000009', 'category_id': 7, 'bbox': [842.55, 176.82, 971.29, 235.03], 'score': 0.36}, {'image_id': '0000081_00000_d_0000001', 'category_id': 0, 'bbox': [500.17, 354.02, 524.88, 415.12], 'score': 0.253}, {'image_id': '0000086_00000_d_0000001', 'category_id': 0, 'bbox': [471.92, 221.86, 492.96, 273.65], 'score': 0.273}, {'image_id': '0000086_00592_d_0000002', 'category_id': 0, 'bbox': [46.57, 14.53, 63.69, 55.07], 'score': 0.258}, {'image_id': '0000086_01084_d_0000003', 'category_id': 0, 'bbox': [197.27, 234.37, 221.22, 294.56], 'score': 0.257}, {'image_id': '0000086_01443_d_0000004', 'category_id': 0, 'bbox': [645.96, 121.77, 660.2, 167.35], 'score': 0.253}, {'image_id': '0000086_01954_d_0000005', 'category_id': 0, 'bbox': [52.33, 179.5, 69.49, 223.39], 'score': 0.259}, {'image_id': '0000103_00180_d_0000026', 'category_id': 0, 'bbox': [497.17, 130.05, 575.95, 331.34], 'score': 0.83}, {'image_id': '0000103_00502_d_0000027', 'category_id': 2, 'bbox': [7.65, 46.5, 557.56, 336.65], 'score': 0.755}, {'image_id': '0000103_01734_d_0000028', 'category_id': 2, 'bbox': [265.88, 3.41, 714.61, 234.56], 'score': 0.559}, {'image_id': '0000103_02544_d_0000029', 'category_id': 0, 'bbox': [618.77, 3.13, 654.21, 69.45], 'score': 0.274}, {'image_id': '0000103_02964_d_0000030', 'category_id': 24, 'bbox': [595.91, 396.43, 665.99, 499.26], 'score': 0.263}, {'image_id': '0000103_03349_d_0000031', 'category_id': 7, 'bbox': [0.71, 188.08, 576.47, 650.58], 'score': 0.495}, {'image_id': '0000103_03738_d_0000032', 'category_id': 0, 'bbox': [263.76, 219.59, 341.7, 422.53], 'score': 0.885}, {'image_id': '0000103_04122_d_0000033', 'category_id': 0, 'bbox': [663.12, 258.59, 701.27, 341.58], 'score': 0.251}, {'image_id': '0000103_04513_d_0000034', 'category_id': 67, 'bbox': [843.94, 272.14, 944.31, 472.65], 'score': 0.389}, {'image_id': '0000103_04948_d_0000035', 'category_id': 7, 'bbox': [0.0, 3.43, 258.2, 234.13], 'score': 0.334}, {'image_id': '0000115_00315_d_0000080', 'category_id': 7, 'bbox': [446.66, 342.41, 484.21, 406.94], 'score': 0.263}, {'image_id': '0000115_00796_d_0000081', 'category_id': 0, 'bbox': [88.34, 380.29, 105.06, 406.3], 'score': 0.25}, {'image_id': '0000115_01031_d_0000082', 'category_id': 9, 'bbox': [441.03, 281.96, 458.46, 308.81], 'score': 0.307}, {'image_id': '0000116_00351_d_0000083', 'category_id': 2, 'bbox': [329.58, 425.49, 350.28, 462.63], 'score': 0.254}, {'image_id': '0000116_00819_d_0000084', 'category_id': 0, 'bbox': [535.38, 501.3, 552.13, 540.0], 'score': 0.297}, {'image_id': '0000116_01059_d_0000085', 'category_id': 2, 'bbox': [617.58, 491.82, 668.15, 537.48], 'score': 0.251}, {'image_id': '0000116_01338_d_0000086', 'category_id': 2, 'bbox': [458.78, 305.22, 475.5, 336.7], 'score': 0.252}, {'image_id': '0000117_00112_d_0000087', 'category_id': 2, 'bbox': [697.24, 105.88, 734.14, 155.22], 'score': 0.382}, {'image_id': '0000117_01326_d_0000088', 'category_id': 0, 'bbox': [925.04, 383.29, 953.88, 422.37], 'score': 0.252}, {'image_id': '0000117_01731_d_0000089', 'category_id': 2, 'bbox': [97.24, 42.87, 134.2, 74.87], 'score': 0.299}, {'image_id': '0000117_02708_d_0000090', 'category_id': 2, 'bbox': [372.0, 228.34, 422.51, 265.3], 'score': 0.265}, {'image_id': '0000117_03096_d_0000091', 'category_id': 2, 'bbox': [1076.89, 351.61, 1151.85, 403.52], 'score': 0.263}, {'image_id': '0000129_02411_d_0000138', 'category_id': 2, 'bbox': [1076.89, 351.61, 1151.85, 403.52], 'score': 0.263}, {'image_id': '0000153_00001_d_0000001', 'category_id': 0, 'bbox': [377.98, 240.22, 393.34, 271.89], 'score': 0.256}, {'image_id': '0000153_00401_d_0000001', 'category_id': 2, 'bbox': [125.73, 264.5, 142.57, 281.58], 'score': 0.267}, {'image_id': '0000153_00801_d_0000001', 'category_id': 2, 'bbox': [232.79, 305.81, 267.3, 326.34], 'score': 0.254}, {'image_id': '0000153_01201_d_0000001', 'category_id': 0, 'bbox': [350.61, 309.33, 362.02, 328.95], 'score': 0.279}, {'image_id': '0000153_01601_d_0000001', 'category_id': 0, 'bbox': [351.88, 348.66, 369.92, 376.42], 'score': 0.284}, {'image_id': '0000153_01801_d_0000001', 'category_id': 2, 'bbox': [671.15, 350.95, 687.01, 377.8], 'score': 0.263}, {'image_id': '0000154_00001_d_0000001', 'category_id': 2, 'bbox': [599.8, 229.86, 616.04, 247.41], 'score': 0.291}, {'image_id': '0000154_00401_d_0000001', 'category_id': 2, 'bbox': [920.83, 428.72, 953.35, 457.41], 'score': 0.251}, {'image_id': '0000154_00801_d_0000001', 'category_id': 2, 'bbox': [487.68, 256.12, 504.9, 270.84], 'score': 0.278}, {'image_id': '0000154_01201_d_0000001', 'category_id': 0, 'bbox': [165.25, 413.88, 182.33, 447.09], 'score': 0.341}, {'image_id': '0000154_01601_d_0000001', 'category_id': 2, 'bbox': [246.28, 348.02, 310.38, 375.53], 'score': 0.266}, {'image_id': '0000154_02001_d_0000001', 'category_id': 2, 'bbox': [532.13, 309.26, 557.85, 342.02], 'score': 0.265}, {'image_id': '0000155_00001_d_0000001', 'category_id': 3, 'bbox': [893.67, 478.74, 927.4, 530.85], 'score': 0.273}, {'image_id': '0000155_00401_d_0000001', 'category_id': 0, 'bbox': [1.53, 523.78, 23.51, 540.0], 'score': 0.252}, {'image_id': '0000155_00801_d_0000001', 'category_id': 3, 'bbox': [72.55, 481.14, 114.23, 537.96], 'score': 0.258}, {'image_id': '0000155_01201_d_0000001', 'category_id': 2, 'bbox': [0.13, 389.37, 13.02, 411.84], 'score': 0.265}, {'image_id': '0000155_01601_d_0000001', 'category_id': 2, 'bbox': [152.23, 278.45, 192.48, 313.88], 'score': 0.255}, {'image_id': '0000155_01871_d_0000001', 'category_id': 0, 'bbox': [701.73, 481.61, 736.11, 540.0], 'score': 0.252}, {'image_id': '0000162_00001_d_0000001', 'category_id': 0, 'bbox': [49.88, 381.59, 74.88, 422.7], 'score': 0.251}, {'image_id': '0000162_00401_d_0000001', 'category_id': 2, 'bbox': [485.37, 148.54, 503.8, 176.7], 'score': 0.26}, {'image_id': '0000162_00801_d_0000001', 'category_id': 2, 'bbox': [873.49, 437.82, 953.67, 498.67], 'score': 0.256}, {'image_id': '0000162_01058_d_0000001', 'category_id': 0, 'bbox': [336.47, 193.06, 344.17, 208.45], 'score': 0.269}, {'image_id': '0000163_00001_d_0000001', 'category_id': 0, 'bbox': [481.0, 235.32, 490.76, 256.84], 'score': 0.278}, {'image_id': '0000163_00359_d_0000001', 'category_id': 2, 'bbox': [394.43, 175.34, 415.91, 196.59], 'score': 0.298}, {'image_id': '0000165_04325_d_0000105', 'category_id': 0, 'bbox': [877.42, 978.28, 908.72, 1075.81], 'score': 0.26}, {'image_id': '0000166_00558_d_0000118', 'category_id': 1, 'bbox': [1237.16, 889.9, 1300.48, 970.4], 'score': 0.258}, {'image_id': '0000193_00000_d_0000103', 'category_id': 0, 'bbox': [813.77, 377.25, 825.17, 401.16], 'score': 0.256}, {'image_id': '0000193_01497_d_0000111', 'category_id': 0, 'bbox': [770.82, 269.77, 782.12, 293.25], 'score': 0.256}, {'image_id': '0000193_01705_d_0000112', 'category_id': 2, 'bbox': [460.25, 264.74, 487.76, 291.87], 'score': 0.254}, {'image_id': '0000193_01876_d_0000113', 'category_id': 0, 'bbox': [580.93, 250.57, 591.03, 273.42], 'score': 0.315}, {'image_id': '0000193_02029_d_0000114', 'category_id': 0, 'bbox': [337.36, 248.91, 351.05, 278.91], 'score': 0.253}, {'image_id': '0000193_02212_d_0000115', 'category_id': 2, 'bbox': [761.42, 273.68, 802.41, 299.04], 'score': 0.265}, {'image_id': '0000193_02416_d_0000116', 'category_id': 9, 'bbox': [528.79, 478.99, 543.21, 517.06], 'score': 0.256}, {'image_id': '0000193_02606_d_0000117', 'category_id': 9, 'bbox': [528.79, 478.99, 543.21, 517.06], 'score': 0.256}, {'image_id': '0000193_02725_d_0000118', 'category_id': 0, 'bbox': [283.55, 400.11, 301.18, 435.93], 'score': 0.262}, {'image_id': '0000194_00000_d_0000119', 'category_id': 0, 'bbox': [626.18, 485.2, 643.93, 539.77], 'score': 0.25}, {'image_id': '0000194_00200_d_0000120', 'category_id': 2, 'bbox': [610.46, 163.72, 643.09, 188.31], 'score': 0.25}, {'image_id': '0000194_00399_d_0000121', 'category_id': 2, 'bbox': [489.76, 161.56, 504.69, 177.18], 'score': 0.251}, {'image_id': '0000194_00625_d_0000122', 'category_id': 2, 'bbox': [605.43, 207.12, 630.21, 225.63], 'score': 0.253}, {'image_id': '0000194_00800_d_0000123', 'category_id': 0, 'bbox': [692.11, 500.68, 707.63, 537.11], 'score': 0.252}, {'image_id': '0000194_00998_d_0000124', 'category_id': 2, 'bbox': [287.32, 366.8, 302.07, 392.67], 'score': 0.303}, {'image_id': '0000194_01192_d_0000125', 'category_id': 2, 'bbox': [489.71, 321.69, 510.21, 352.54], 'score': 0.264}, {'image_id': '0000196_04512_d_0000144', 'category_id': 2, 'bbox': [919.36, 512.55, 961.62, 557.9], 'score': 0.384}, {'image_id': '0000199_01269_d_0000166', 'category_id': 2, 'bbox': [641.08, 284.68, 696.3, 319.82], 'score': 0.322}, {'image_id': '0000213_02500_d_0000240', 'category_id': 0, 'bbox': [255.56, 378.43, 274.74, 408.52], 'score': 0.267}, {'image_id': '0000213_02965_d_0000241', 'category_id': 2, 'bbox': [978.48, 326.03, 1070.78, 356.81], 'score': 0.255}, {'image_id': '0000213_03478_d_0000242', 'category_id': 7, 'bbox': [786.05, 305.92, 834.48, 373.43], 'score': 0.255}, {'image_id': '0000213_03920_d_0000243', 'category_id': 2, 'bbox': [874.58, 417.35, 1030.01, 491.93], 'score': 0.258}, {'image_id': '0000213_04405_d_0000244', 'category_id': 2, 'bbox': [371.23, 212.01, 445.92, 263.37], 'score': 0.252}, {'image_id': '0000213_04998_d_0000245', 'category_id': 2, 'bbox': [1155.17, 373.64, 1201.59, 418.5], 'score': 0.264}, {'image_id': '0000213_05340_d_0000246', 'category_id': 5, 'bbox': [405.78, 410.85, 465.12, 502.68], 'score': 0.253}, {'image_id': '0000213_05745_d_0000247', 'category_id': 2, 'bbox': [1099.13, 310.9, 1143.01, 365.74], 'score': 0.251}, {'image_id': '0000215_00000_d_0000256', 'category_id': 2, 'bbox': [502.96, 313.75, 547.04, 347.44], 'score': 0.25}, {'image_id': '0000215_00447_d_0000257', 'category_id': 2, 'bbox': [123.15, 267.4, 215.87, 311.72], 'score': 0.251}, {'image_id': '0000215_00909_d_0000258', 'category_id': 2, 'bbox': [7.45, 411.83, 104.0, 464.07], 'score': 0.256}, {'image_id': '0000215_01395_d_0000259', 'category_id': 2, 'bbox': [189.39, 347.72, 238.44, 383.96], 'score': 0.251}, {'image_id': '0000215_01869_d_0000260', 'category_id': 0, 'bbox': [261.59, 330.4, 281.5, 365.54], 'score': 0.253}, {'image_id': '0000215_02319_d_0000261', 'category_id': 2, 'bbox': [941.41, 176.36, 978.08, 209.52], 'score': 0.258}, {'image_id': '0000215_02667_d_0000262', 'category_id': 0, 'bbox': [1083.08, 379.93, 1100.68, 412.36], 'score': 0.265}, {'image_id': '0000215_02932_d_0000263', 'category_id': 2, 'bbox': [726.7, 182.34, 771.75, 235.84], 'score': 0.288}, {'image_id': '0000215_03226_d_0000264', 'category_id': 2, 'bbox': [937.67, 227.39, 982.67, 269.0], 'score': 0.597}, {'image_id': '0000216_00520_d_0000001', 'category_id': 5, 'bbox': [870.38, 663.95, 1223.15, 764.31], 'score': 0.281}, {'image_id': '0000220_01242_d_0000004', 'category_id': 2, 'bbox': [999.83, 456.58, 1093.78, 544.67], 'score': 0.279}, {'image_id': '0000223_01802_d_0000005', 'category_id': 2, 'bbox': [754.07, 387.1, 799.06, 457.98], 'score': 0.29}, {'image_id': '0000237_00001_d_0000001', 'category_id': 13, 'bbox': [17.0, 331.73, 134.88, 384.3], 'score': 0.281}, {'image_id': '0000242_00001_d_0000001', 'category_id': 2, 'bbox': [67.16, 347.95, 102.95, 376.61], 'score': 0.273}, {'image_id': '0000242_00500_d_0000002', 'category_id': 0, 'bbox': [375.66, 308.42, 384.83, 329.66], 'score': 0.253}, {'image_id': '0000242_00627_d_0000003', 'category_id': 2, 'bbox': [604.99, 176.33, 630.78, 197.88], 'score': 0.265}, {'image_id': '0000242_00843_d_0000004', 'category_id': 2, 'bbox': [67.94, 6.58, 295.19, 204.24], 'score': 0.477}, {'image_id': '0000242_00963_d_0000005', 'category_id': 0, 'bbox': [700.99, 384.25, 716.67, 424.98], 'score': 0.272}, {'image_id': '0000242_01139_d_0000006', 'category_id': 2, 'bbox': [546.03, 476.74, 598.4, 522.43], 'score': 0.283}, {'image_id': '0000242_01475_d_0000007', 'category_id': 0, 'bbox': [140.92, 498.79, 161.39, 537.41], 'score': 0.251}, {'image_id': '0000242_01912_d_0000008', 'category_id': 2, 'bbox': [339.1, 470.64, 371.98, 511.45], 'score': 0.288}, {'image_id': '0000242_02400_d_0000009', 'category_id': 2, 'bbox': [448.52, 41.97, 467.41, 60.22], 'score': 0.251}, {'image_id': '0000242_02762_d_0000010', 'category_id': 0, 'bbox': [586.58, 418.74, 599.57, 449.9], 'score': 0.254}, {'image_id': '0000242_03199_d_0000011', 'category_id': 2, 'bbox': [185.67, 151.12, 205.58, 172.93], 'score': 0.337}, {'image_id': '0000242_03668_d_0000012', 'category_id': 2, 'bbox': [0.04, 193.44, 23.57, 221.51], 'score': 0.284}, {'image_id': '0000242_04116_d_0000013', 'category_id': 5, 'bbox': [197.01, 246.63, 242.89, 302.7], 'score': 0.331}, {'image_id': '0000242_04600_d_0000014', 'category_id': 2, 'bbox': [164.94, 404.35, 222.02, 462.03], 'score': 0.269}, {'image_id': '0000242_05059_d_0000015', 'category_id': 2, 'bbox': [564.12, 212.51, 586.52, 232.88], 'score': 0.324}, {'image_id': '0000242_05570_d_0000016', 'category_id': 2, 'bbox': [534.2, 122.93, 558.8, 142.59], 'score': 0.406}, {'image_id': '0000242_06010_d_0000017', 'category_id': 18, 'bbox': [716.7, 354.88, 743.92, 380.97], 'score': 0.295}, {'image_id': '0000242_06452_d_0000018', 'category_id': 2, 'bbox': [336.91, 148.96, 373.06, 183.89], 'score': 0.542}, {'image_id': '0000244_00001_d_0000001', 'category_id': 2, 'bbox': [360.21, 325.36, 401.68, 361.79], 'score': 0.251}, {'image_id': '0000244_00500_d_0000002', 'category_id': 2, 'bbox': [283.82, 344.31, 313.64, 375.54], 'score': 0.286}, {'image_id': '0000244_01000_d_0000003', 'category_id': 5, 'bbox': [407.12, 175.26, 435.88, 222.26], 'score': 0.276}, {'image_id': '0000244_01500_d_0000004', 'category_id': 2, 'bbox': [0.36, 519.26, 38.97, 539.51], 'score': 0.251}, {'image_id': '0000244_02000_d_0000005', 'category_id': 2, 'bbox': [912.74, 243.05, 959.38, 294.41], 'score': 0.251}, {'image_id': '0000244_02500_d_0000006', 'category_id': 2, 'bbox': [374.15, 339.1, 401.27, 368.57], 'score': 0.264}, {'image_id': '0000244_03000_d_0000007', 'category_id': 2, 'bbox': [247.25, 445.15, 289.96, 471.73], 'score': 0.277}, {'image_id': '0000244_03500_d_0000008', 'category_id': 2, 'bbox': [752.97, 291.81, 781.83, 308.05], 'score': 0.257}, {'image_id': '0000244_04000_d_0000009', 'category_id': 2, 'bbox': [426.73, 167.61, 444.73, 186.13], 'score': 0.33}, {'image_id': '0000244_04400_d_0000010', 'category_id': 2, 'bbox': [238.09, 182.34, 302.74, 211.9], 'score': 0.251}, {'image_id': '0000244_04900_d_0000011', 'category_id': 2, 'bbox': [471.62, 255.26, 489.84, 272.35], 'score': 0.269}, {'image_id': '0000244_05400_d_0000012', 'category_id': 2, 'bbox': [482.75, 367.33, 502.55, 386.76], 'score': 0.253}, {'image_id': '0000244_05900_d_0000013', 'category_id': 6, 'bbox': [529.94, 268.94, 693.29, 469.94], 'score': 0.315}, {'image_id': '0000244_06388_d_0000014', 'category_id': 5, 'bbox': [551.49, 359.47, 688.75, 526.67], 'score': 0.261}, {'image_id': '0000249_00001_d_0000001', 'category_id': 2, 'bbox': [420.33, 297.96, 442.79, 317.71], 'score': 0.306}, {'image_id': '0000249_00235_d_0000002', 'category_id': 2, 'bbox': [562.92, 298.5, 584.91, 340.5], 'score': 0.262}, {'image_id': '0000249_00603_d_0000003', 'category_id': 2, 'bbox': [558.44, 257.27, 580.19, 268.24], 'score': 0.266}, {'image_id': '0000249_01100_d_0000004', 'category_id': 0, 'bbox': [663.75, 514.17, 690.56, 540.0], 'score': 0.338}, {'image_id': '0000249_01514_d_0000005', 'category_id': 2, 'bbox': [609.09, 118.34, 643.4, 142.54], 'score': 0.281}, {'image_id': '0000249_01635_d_0000006', 'category_id': 2, 'bbox': [604.85, 516.96, 638.99, 540.0], 'score': 0.358}, {'image_id': '0000249_02073_d_0000007', 'category_id': 2, 'bbox': [312.38, 444.17, 359.88, 504.94], 'score': 0.253}, {'image_id': '0000249_02468_d_0000008', 'category_id': 2, 'bbox': [227.98, 464.75, 288.37, 533.58], 'score': 0.322}, {'image_id': '0000249_02900_d_0000009', 'category_id': 2, 'bbox': [482.7, 345.27, 512.71, 379.26], 'score': 0.26}, {'image_id': '0000249_03400_d_0000010', 'category_id': 2, 'bbox': [377.68, 358.43, 396.68, 380.79], 'score': 0.254}, {'image_id': '0000249_03900_d_0000011', 'category_id': 2, 'bbox': [478.85, 336.02, 507.84, 355.48], 'score': 0.251}, {'image_id': '0000253_00001_d_0000001', 'category_id': 2, 'bbox': [478.85, 336.02, 507.84, 355.48], 'score': 0.251}, {'image_id': '0000256_00715_d_0000019', 'category_id': 5, 'bbox': [0.0, 384.82, 161.08, 437.82], 'score': 0.278}, {'image_id': '0000256_02173_d_0000030', 'category_id': 2, 'bbox': [887.63, 203.09, 939.87, 243.34], 'score': 0.254}, {'image_id': '0000263_02401_d_0000179', 'category_id': 7, 'bbox': [1039.67, 189.36, 1214.83, 270.84], 'score': 0.419}, {'image_id': '0000269_00001_d_0000348', 'category_id': 2, 'bbox': [951.1, 322.37, 989.5, 351.52], 'score': 0.272}, {'image_id': '0000269_00201_d_0000349', 'category_id': 2, 'bbox': [607.13, 184.17, 638.64, 223.29], 'score': 0.259}, {'image_id': '0000269_00601_d_0000351', 'category_id': 2, 'bbox': [638.49, 258.71, 677.24, 293.52], 'score': 0.254}, {'image_id': '0000271_00001_d_0000374', 'category_id': 0, 'bbox': [1069.19, 389.88, 1084.77, 413.33], 'score': 0.256}, {'image_id': '0000271_00201_d_0000375', 'category_id': 2, 'bbox': [185.66, 118.28, 236.95, 148.89], 'score': 0.268}, {'image_id': '0000271_00401_d_0000376', 'category_id': 2, 'bbox': [546.16, 419.18, 618.34, 488.52], 'score': 0.342}, {'image_id': '0000271_00601_d_0000377', 'category_id': 2, 'bbox': [896.52, 43.14, 946.55, 81.14], 'score': 0.255}, {'image_id': '0000271_00801_d_0000378', 'category_id': 11, 'bbox': [846.47, 290.7, 870.78, 320.72], 'score': 0.259}, {'image_id': '0000271_01201_d_0000379', 'category_id': 2, 'bbox': [924.08, 189.05, 992.05, 226.68], 'score': 0.269}, {'image_id': '0000271_01401_d_0000380', 'category_id': 2, 'bbox': [600.43, 129.04, 631.72, 179.71], 'score': 0.255}, {'image_id': '0000271_01601_d_0000381', 'category_id': 2, 'bbox': [483.01, 77.57, 533.26, 127.44], 'score': 0.252}, {'image_id': '0000271_02401_d_0000385', 'category_id': 2, 'bbox': [293.49, 2.44, 353.37, 36.05], 'score': 0.258}, {'image_id': '0000271_02601_d_0000386', 'category_id': 2, 'bbox': [748.68, 245.16, 795.84, 289.94], 'score': 0.282}, {'image_id': '0000271_03001_d_0000387', 'category_id': 2, 'bbox': [565.04, 142.92, 606.14, 178.2], 'score': 0.273}, {'image_id': '0000271_03801_d_0000391', 'category_id': 2, 'bbox': [673.71, 35.94, 697.02, 62.79], 'score': 0.264}, {'image_id': '0000271_04401_d_0000394', 'category_id': 2, 'bbox': [334.23, 266.05, 395.46, 317.32], 'score': 0.258}, {'image_id': '0000271_04801_d_0000396', 'category_id': 2, 'bbox': [819.73, 367.23, 918.26, 409.66], 'score': 0.255}, {'image_id': '0000271_05001_d_0000397', 'category_id': 2, 'bbox': [954.36, 216.23, 997.42, 264.73], 'score': 0.259}, {'image_id': '0000271_05201_d_0000398', 'category_id': 2, 'bbox': [871.36, 159.66, 903.01, 194.87], 'score': 0.263}, {'image_id': '0000271_05401_d_0000399', 'category_id': 7, 'bbox': [984.98, 373.04, 1054.18, 486.27], 'score': 0.253}, {'image_id': '0000271_05601_d_0000400', 'category_id': 2, 'bbox': [870.48, 38.76, 917.09, 72.23], 'score': 0.256}, {'image_id': '0000271_05801_d_0000401', 'category_id': 2, 'bbox': [884.99, 68.4, 917.22, 96.09], 'score': 0.259}, {'image_id': '0000271_06001_d_0000402', 'category_id': 2, 'bbox': [971.68, 233.32, 1056.96, 274.61], 'score': 0.255}, {'image_id': '0000271_06201_d_0000403', 'category_id': 2, 'bbox': [1312.39, 593.27, 1359.48, 640.38], 'score': 0.251}, {'image_id': '0000271_06401_d_0000404', 'category_id': 2, 'bbox': [749.88, 117.03, 780.59, 148.69], 'score': 0.26}, {'image_id': '0000271_06601_d_0000405', 'category_id': 2, 'bbox': [448.96, 101.15, 491.9, 126.98], 'score': 0.252}, {'image_id': '0000271_06801_d_0000406', 'category_id': 2, 'bbox': [193.8, 727.72, 387.61, 764.21], 'score': 0.262}, {'image_id': '0000271_07001_d_0000407', 'category_id': 67, 'bbox': [690.67, 622.35, 753.47, 727.99], 'score': 0.274}, {'image_id': '0000271_07201_d_0000408', 'category_id': 0, 'bbox': [218.87, 422.46, 241.48, 467.01], 'score': 0.264}, {'image_id': '0000271_07401_d_0000409', 'category_id': 2, 'bbox': [15.11, 288.74, 59.48, 343.67], 'score': 0.251}, {'image_id': '0000273_05601_d_0000466', 'category_id': 13, 'bbox': [924.72, 386.54, 1039.18, 460.93], 'score': 0.366}, {'image_id': '0000276_00001_d_0000507', 'category_id': 0, 'bbox': [840.64, 243.41, 875.08, 281.89], 'score': 0.267}, {'image_id': '0000276_00401_d_0000509', 'category_id': 7, 'bbox': [1261.09, 232.48, 1359.63, 327.03], 'score': 0.253}, {'image_id': '0000276_00601_d_0000510', 'category_id': 2, 'bbox': [807.02, 252.8, 844.55, 299.08], 'score': 0.279}, {'image_id': '0000276_01001_d_0000512', 'category_id': 2, 'bbox': [898.67, 641.11, 991.87, 753.71], 'score': 0.274}, {'image_id': '0000276_01201_d_0000513', 'category_id': 7, 'bbox': [868.46, 564.45, 928.34, 632.07], 'score': 0.261}, {'image_id': '0000276_01401_d_0000514', 'category_id': 2, 'bbox': [382.82, 351.11, 439.66, 405.18], 'score': 0.829}, {'image_id': '0000276_01801_d_0000516', 'category_id': 0, 'bbox': [983.6, 564.27, 1013.79, 638.88], 'score': 0.277}, {'image_id': '0000276_02001_d_0000517', 'category_id': 2, 'bbox': [994.45, 277.49, 1047.43, 298.87], 'score': 0.295}, {'image_id': '0000276_02201_d_0000518', 'category_id': 5, 'bbox': [1279.76, 279.26, 1359.34, 344.76], 'score': 0.277}, {'image_id': '0000276_02401_d_0000519', 'category_id': 7, 'bbox': [277.36, 559.17, 352.21, 661.79], 'score': 0.261}, {'image_id': '0000276_02601_d_0000520', 'category_id': 5, 'bbox': [645.74, 300.21, 689.12, 375.37], 'score': 0.296}, {'image_id': '0000276_02801_d_0000521', 'category_id': 7, 'bbox': [241.62, 476.5, 347.43, 643.74], 'score': 0.263}, {'image_id': '0000276_03001_d_0000522', 'category_id': 2, 'bbox': [619.7, 257.31, 642.2, 279.38], 'score': 0.267}, {'image_id': '0000276_03201_d_0000523', 'category_id': 2, 'bbox': [493.16, 313.29, 521.64, 338.63], 'score': 0.288}, {'image_id': '0000276_03401_d_0000524', 'category_id': 7, 'bbox': [647.91, 270.76, 678.64, 315.07], 'score': 0.266}, {'image_id': '0000276_03601_d_0000525', 'category_id': 2, 'bbox': [509.52, 328.43, 541.09, 352.2], 'score': 0.259}, {'image_id': '0000276_03801_d_0000526', 'category_id': 0, 'bbox': [235.8, 548.55, 249.78, 579.26], 'score': 0.268}, {'image_id': '0000276_04001_d_0000527', 'category_id': 0, 'bbox': [235.8, 548.55, 249.78, 579.26], 'score': 0.268}, {'image_id': '0000276_04201_d_0000528', 'category_id': 2, 'bbox': [750.89, 688.51, 796.41, 742.6], 'score': 0.257}, {'image_id': '0000276_04401_d_0000529', 'category_id': 2, 'bbox': [620.75, 315.56, 655.39, 364.84], 'score': 0.251}, {'image_id': '0000276_04601_d_0000530', 'category_id': 2, 'bbox': [620.75, 315.56, 655.39, 364.84], 'score': 0.251}, {'image_id': '0000276_04801_d_0000531', 'category_id': 6, 'bbox': [1191.97, 334.5, 1360.0, 495.0], 'score': 0.46}, {'image_id': '0000276_05001_d_0000532', 'category_id': 6, 'bbox': [1191.97, 334.5, 1360.0, 495.0], 'score': 0.46}, {'image_id': '0000276_05201_d_0000533', 'category_id': 2, 'bbox': [766.79, 546.28, 840.21, 657.73], 'score': 0.281}, {'image_id': '0000276_05601_d_0000535', 'category_id': 2, 'bbox': [766.79, 546.28, 840.21, 657.73], 'score': 0.281}, {'image_id': '0000276_05801_d_0000536', 'category_id': 2, 'bbox': [766.79, 546.28, 840.21, 657.73], 'score': 0.281}, {'image_id': '0000276_06001_d_0000537', 'category_id': 2, 'bbox': [766.79, 546.28, 840.21, 657.73], 'score': 0.281}, {'image_id': '0000277_00001_d_0000539', 'category_id': 9, 'bbox': [770.88, 515.14, 793.1, 567.79], 'score': 0.261}, {'image_id': '0000277_00201_d_0000540', 'category_id': 2, 'bbox': [1286.14, 215.44, 1359.94, 280.26], 'score': 0.256}, {'image_id': '0000277_00401_d_0000541', 'category_id': 9, 'bbox': [1257.87, 152.07, 1289.2, 211.79], 'score': 0.277}, {'image_id': '0000277_01401_d_0000546', 'category_id': 2, 'bbox': [593.14, 199.58, 658.74, 241.14], 'score': 0.261}, {'image_id': '0000277_01601_d_0000547', 'category_id': 2, 'bbox': [1084.62, 233.17, 1152.13, 265.74], 'score': 0.262}, {'image_id': '0000277_01801_d_0000548', 'category_id': 2, 'bbox': [1245.68, 265.06, 1354.25, 329.36], 'score': 0.26}, {'image_id': '0000277_02001_d_0000549', 'category_id': 2, 'bbox': [683.66, 65.54, 738.08, 100.52], 'score': 0.261}, {'image_id': '0000277_02201_d_0000550', 'category_id': 2, 'bbox': [561.91, 165.64, 623.06, 215.46], 'score': 0.256}, {'image_id': '0000277_02401_d_0000551', 'category_id': 0, 'bbox': [242.35, 245.31, 263.23, 288.22], 'score': 0.288}, {'image_id': '0000277_02601_d_0000552', 'category_id': 2, 'bbox': [662.82, 375.5, 736.67, 428.37], 'score': 0.28}, {'image_id': '0000277_03201_d_0000554', 'category_id': 2, 'bbox': [615.79, 166.64, 673.74, 196.72], 'score': 0.268}, {'image_id': '0000277_03401_d_0000555', 'category_id': 0, 'bbox': [908.63, 556.1, 954.43, 623.84], 'score': 0.257}, {'image_id': '0000277_03601_d_0000556', 'category_id': 0, 'bbox': [1018.43, 579.58, 1051.88, 646.88], 'score': 0.258}, {'image_id': '0000277_04001_d_0000558', 'category_id': 0, 'bbox': [1257.42, 244.59, 1273.35, 278.37], 'score': 0.254}, {'image_id': '0000277_04201_d_0000559', 'category_id': 0, 'bbox': [399.61, 235.75, 421.88, 280.8], 'score': 0.262}, {'image_id': '0000277_04401_d_0000560', 'category_id': 5, 'bbox': [558.06, 45.01, 629.04, 117.94], 'score': 0.274}, {'image_id': '0000277_04601_d_0000561', 'category_id': 2, 'bbox': [448.51, 178.73, 514.35, 219.75], 'score': 0.293}, {'image_id': '0000277_05001_d_0000562', 'category_id': 2, 'bbox': [197.65, 160.9, 237.78, 194.17], 'score': 0.258}, {'image_id': '0000280_00001_d_0000612', 'category_id': 2, 'bbox': [537.87, 63.71, 565.53, 91.38], 'score': 0.258}, {'image_id': '0000280_00201_d_0000613', 'category_id': 5, 'bbox': [1159.13, 422.79, 1220.69, 500.72], 'score': 0.261}, {'image_id': '0000280_00401_d_0000614', 'category_id': 3, 'bbox': [1095.79, 562.08, 1123.23, 632.71], 'score': 0.291}, {'image_id': '0000280_00601_d_0000615', 'category_id': 0, 'bbox': [496.33, 272.77, 510.28, 299.9], 'score': 0.275}, {'image_id': '0000280_00801_d_0000616', 'category_id': 2, 'bbox': [0.26, 414.95, 36.22, 460.45], 'score': 0.272}, {'image_id': '0000280_01001_d_0000617', 'category_id': 2, 'bbox': [404.89, 323.27, 453.4, 367.24], 'score': 0.26}, {'image_id': '0000280_01201_d_0000618', 'category_id': 2, 'bbox': [255.11, 237.32, 308.21, 261.11], 'score': 0.257}, {'image_id': '0000280_01401_d_0000619', 'category_id': 2, 'bbox': [322.79, 380.39, 406.35, 456.83], 'score': 0.25}, {'image_id': '0000280_01601_d_0000620', 'category_id': 2, 'bbox': [703.26, 632.46, 785.93, 760.77], 'score': 0.261}, {'image_id': '0000280_01801_d_0000621', 'category_id': 2, 'bbox': [330.51, 318.68, 363.85, 347.21], 'score': 0.255}, {'image_id': '0000280_02001_d_0000622', 'category_id': 2, 'bbox': [909.6, 353.26, 949.89, 382.73], 'score': 0.253}, {'image_id': '0000280_02201_d_0000623', 'category_id': 2, 'bbox': [418.43, 370.53, 480.98, 430.71], 'score': 0.272}, {'image_id': '0000280_02401_d_0000624', 'category_id': 7, 'bbox': [176.25, 589.71, 319.05, 739.5], 'score': 0.275}, {'image_id': '0000280_02601_d_0000625', 'category_id': 2, 'bbox': [1207.26, 682.62, 1358.8, 764.08], 'score': 0.262}, {'image_id': '0000280_02801_d_0000626', 'category_id': 2, 'bbox': [416.22, 400.49, 459.42, 448.75], 'score': 0.272}, {'image_id': '0000280_03001_d_0000627', 'category_id': 0, 'bbox': [440.48, 569.01, 464.51, 600.29], 'score': 0.273}, {'image_id': '0000280_03201_d_0000628', 'category_id': 2, 'bbox': [549.44, 377.25, 592.64, 416.54], 'score': 0.25}, {'image_id': '0000280_03401_d_0000629', 'category_id': 2, 'bbox': [1256.18, 380.92, 1288.93, 415.11], 'score': 0.297}, {'image_id': '0000283_00401_d_0000676', 'category_id': 2, 'bbox': [1780.51, 711.18, 1919.12, 951.42], 'score': 0.304}, {'image_id': '0000283_00601_d_0000677', 'category_id': 2, 'bbox': [833.92, 162.36, 885.41, 212.77], 'score': 0.378}, {'image_id': '0000283_00801_d_0000678', 'category_id': 2, 'bbox': [984.36, 231.71, 1039.29, 283.29], 'score': 0.557}, {'image_id': '0000283_01001_d_0000679', 'category_id': 2, 'bbox': [1065.86, 140.56, 1106.79, 174.65], 'score': 0.437}, {'image_id': '0000287_00001_d_0000759', 'category_id': 2, 'bbox': [345.85, 512.39, 387.95, 543.56], 'score': 0.25}, {'image_id': '0000287_00201_d_0000760', 'category_id': 7, 'bbox': [701.27, 436.57, 763.5, 510.26], 'score': 0.255}, {'image_id': '0000287_00401_d_0000761', 'category_id': 2, 'bbox': [373.74, 307.3, 418.57, 352.8], 'score': 0.256}, {'image_id': '0000287_00601_d_0000762', 'category_id': 5, 'bbox': [163.47, 1.72, 469.45, 174.1], 'score': 0.256}, {'image_id': '0000287_00801_d_0000763', 'category_id': 2, 'bbox': [1138.81, 240.65, 1187.04, 277.41], 'score': 0.314}, {'image_id': '0000287_01001_d_0000764', 'category_id': 2, 'bbox': [819.37, 573.74, 902.12, 682.49], 'score': 0.25}, {'image_id': '0000287_01201_d_0000765', 'category_id': 0, 'bbox': [812.99, 670.06, 837.03, 721.49], 'score': 0.268}, {'image_id': '0000287_01401_d_0000766', 'category_id': 2, 'bbox': [359.51, 505.01, 401.05, 537.62], 'score': 0.252}, {'image_id': '0000287_01601_d_0000767', 'category_id': 2, 'bbox': [400.46, 530.92, 461.47, 577.75], 'score': 0.267}, {'image_id': '0000287_01801_d_0000768', 'category_id': 2, 'bbox': [331.86, 564.78, 368.98, 592.28], 'score': 0.274}, {'image_id': '0000287_02001_d_0000769', 'category_id': 2, 'bbox': [120.4, 623.93, 209.22, 702.95], 'score': 0.274}, {'image_id': '0000287_02201_d_0000770', 'category_id': 2, 'bbox': [701.57, 446.13, 753.55, 477.79], 'score': 0.274}, {'image_id': '0000287_02401_d_0000771', 'category_id': 2, 'bbox': [0.05, 67.72, 38.6, 119.91], 'score': 0.36}, {'image_id': '0000287_02601_d_0000772', 'category_id': 2, 'bbox': [0.05, 67.72, 38.6, 119.91], 'score': 0.36}, {'image_id': '0000287_02801_d_0000773', 'category_id': 0, 'bbox': [797.49, 27.12, 818.63, 66.82], 'score': 0.258}, {'image_id': '0000287_03001_d_0000774', 'category_id': 7, 'bbox': [1192.19, 159.61, 1359.67, 304.78], 'score': 0.304}, {'image_id': '0000287_03401_d_0000776', 'category_id': 2, 'bbox': [1001.79, 475.87, 1080.92, 520.55], 'score': 0.258}, {'image_id': '0000287_04601_d_0000780', 'category_id': 2, 'bbox': [1050.85, 575.86, 1196.96, 708.32], 'score': 0.275}, {'image_id': '0000287_04801_d_0000781', 'category_id': 58, 'bbox': [1171.74, 312.42, 1265.8, 401.69], 'score': 0.357}, {'image_id': '0000287_05001_d_0000782', 'category_id': 9, 'bbox': [1085.82, 458.14, 1206.87, 544.99], 'score': 0.301}, {'image_id': '0000289_00001_d_0000811', 'category_id': 2, 'bbox': [540.24, 50.77, 579.15, 102.59], 'score': 0.256}, {'image_id': '0000289_00201_d_0000812', 'category_id': 2, 'bbox': [555.99, 103.79, 589.62, 139.52], 'score': 0.296}, {'image_id': '0000289_00401_d_0000813', 'category_id': 2, 'bbox': [365.74, 533.58, 460.74, 619.17], 'score': 0.264}, {'image_id': '0000289_00601_d_0000814', 'category_id': 2, 'bbox': [317.45, 614.41, 359.59, 644.21], 'score': 0.309}, {'image_id': '0000289_00801_d_0000815', 'category_id': 2, 'bbox': [295.23, 401.1, 366.14, 442.89], 'score': 0.262}, {'image_id': '0000289_01001_d_0000816', 'category_id': 2, 'bbox': [329.03, 341.81, 364.56, 367.98], 'score': 0.258}, {'image_id': '0000289_01201_d_0000817', 'category_id': 0, 'bbox': [277.51, 369.33, 295.87, 412.63], 'score': 0.253}, {'image_id': '0000289_01401_d_0000818', 'category_id': 6, 'bbox': [413.94, 587.33, 486.3, 733.86], 'score': 0.259}, {'image_id': '0000289_01601_d_0000819', 'category_id': 0, 'bbox': [624.39, 139.4, 948.82, 755.43], 'score': 0.25}, {'image_id': '0000289_02001_d_0000821', 'category_id': 2, 'bbox': [660.29, 177.19, 710.94, 240.82], 'score': 0.279}, {'image_id': '0000289_02201_d_0000822', 'category_id': 2, 'bbox': [615.87, 391.05, 928.57, 509.44], 'score': 0.277}, {'image_id': '0000289_02401_d_0000823', 'category_id': 2, 'bbox': [562.55, 217.65, 606.45, 264.84], 'score': 0.262}, {'image_id': '0000289_02601_d_0000824', 'category_id': 2, 'bbox': [591.77, 134.67, 628.7, 184.0], 'score': 0.261}, {'image_id': '0000289_03001_d_0000826', 'category_id': 9, 'bbox': [630.49, 184.53, 681.82, 260.34], 'score': 0.301}, {'image_id': '0000289_03201_d_0000827', 'category_id': 2, 'bbox': [1062.08, 493.09, 1126.8, 555.5], 'score': 0.281}, {'image_id': '0000289_03401_d_0000828', 'category_id': 5, 'bbox': [465.61, 373.15, 522.38, 459.87], 'score': 0.26}, {'image_id': '0000289_03601_d_0000829', 'category_id': 2, 'bbox': [424.65, 576.91, 503.65, 724.11], 'score': 0.251}, {'image_id': '0000289_03801_d_0000830', 'category_id': 2, 'bbox': [635.64, 48.36, 670.96, 82.28], 'score': 0.251}, {'image_id': '0000289_04001_d_0000831', 'category_id': 0, 'bbox': [502.9, 231.55, 559.13, 330.85], 'score': 0.28}, {'image_id': '0000289_04201_d_0000832', 'category_id': 3, 'bbox': [598.85, 224.99, 642.22, 302.33], 'score': 0.25}, {'image_id': '0000289_04401_d_0000833', 'category_id': 0, 'bbox': [616.15, 135.37, 629.86, 173.85], 'score': 0.253}, {'image_id': '0000289_04601_d_0000834', 'category_id': 2, 'bbox': [889.46, 49.49, 950.29, 77.4], 'score': 0.262}, {'image_id': '0000289_04801_d_0000835', 'category_id': 2, 'bbox': [575.12, 349.6, 641.71, 452.81], 'score': 0.26}, {'image_id': '0000289_05001_d_0000836', 'category_id': 2, 'bbox': [478.33, 167.49, 531.97, 238.11], 'score': 0.254}, {'image_id': '0000289_05201_d_0000837', 'category_id': 2, 'bbox': [602.18, 181.19, 652.51, 221.31], 'score': 0.258}, {'image_id': '0000289_05401_d_0000838', 'category_id': 2, 'bbox': [708.7, 188.95, 763.38, 217.59], 'score': 0.266}, {'image_id': '0000289_05601_d_0000839', 'category_id': 2, 'bbox': [213.87, 651.45, 333.14, 763.26], 'score': 0.283}, {'image_id': '0000289_05801_d_0000840', 'category_id': 2, 'bbox': [586.55, 410.63, 620.29, 461.77], 'score': 0.257}, {'image_id': '0000289_06001_d_0000841', 'category_id': 2, 'bbox': [200.91, 312.23, 285.1, 354.69], 'score': 0.262}, {'image_id': '0000289_06201_d_0000842', 'category_id': 2, 'bbox': [510.2, 144.02, 554.38, 186.16], 'score': 0.288}, {'image_id': '0000289_06401_d_0000843', 'category_id': 2, 'bbox': [0.08, 482.69, 34.83, 567.41], 'score': 0.261}, {'image_id': '0000289_06601_d_0000844', 'category_id': 2, 'bbox': [759.87, 457.64, 835.49, 588.81], 'score': 0.253}, {'image_id': '0000289_06801_d_0000845', 'category_id': 2, 'bbox': [713.56, 330.82, 758.51, 405.31], 'score': 0.261}, {'image_id': '0000289_07001_d_0000846', 'category_id': 67, 'bbox': [381.75, 347.53, 440.56, 424.93], 'score': 0.44}, {'image_id': '0000289_07201_d_0000847', 'category_id': 2, 'bbox': [545.25, 661.65, 728.03, 764.8], 'score': 0.261}, {'image_id': '0000290_04001_d_0000867', 'category_id': 5, 'bbox': [196.56, 311.43, 295.47, 410.01], 'score': 0.29}, {'image_id': '0000291_00001_d_0000868', 'category_id': 2, 'bbox': [51.97, 667.2, 102.28, 705.0], 'score': 0.265}, {'image_id': '0000291_00201_d_0000869', 'category_id': 2, 'bbox': [617.18, 690.55, 654.6, 721.28], 'score': 0.259}, {'image_id': '0000291_00401_d_0000870', 'category_id': 0, 'bbox': [1104.1, 495.38, 1133.07, 556.95], 'score': 0.26}, {'image_id': '0000291_00601_d_0000871', 'category_id': 2, 'bbox': [140.05, 231.59, 199.87, 284.56], 'score': 0.268}, {'image_id': '0000291_01001_d_0000873', 'category_id': 2, 'bbox': [1173.62, 311.12, 1305.67, 371.89], 'score': 0.26}, {'image_id': '0000291_01201_d_0000874', 'category_id': 2, 'bbox': [864.73, 285.23, 961.19, 334.56], 'score': 0.286}, {'image_id': '0000291_01401_d_0000875', 'category_id': 0, 'bbox': [93.2, 320.82, 114.62, 368.88], 'score': 0.258}, {'image_id': '0000291_01601_d_0000876', 'category_id': 0, 'bbox': [1139.37, 345.31, 1171.86, 417.51], 'score': 0.251}, {'image_id': '0000291_01801_d_0000877', 'category_id': 2, 'bbox': [1068.3, 257.12, 1176.12, 313.92], 'score': 0.257}, {'image_id': '0000291_02001_d_0000878', 'category_id': 2, 'bbox': [1259.42, 53.33, 1297.37, 78.72], 'score': 0.257}, {'image_id': '0000291_02201_d_0000879', 'category_id': 2, 'bbox': [1177.33, 117.57, 1228.41, 150.97], 'score': 0.275}, {'image_id': '0000291_02601_d_0000881', 'category_id': 2, 'bbox': [1226.34, 670.85, 1359.18, 764.2], 'score': 0.253}, {'image_id': '0000291_03201_d_0000884', 'category_id': 2, 'bbox': [493.83, 361.47, 546.01, 404.14], 'score': 0.256}, {'image_id': '0000291_03401_d_0000885', 'category_id': 2, 'bbox': [747.33, 272.62, 796.56, 311.92], 'score': 0.258}, {'image_id': '0000291_03601_d_0000886', 'category_id': 2, 'bbox': [588.03, 193.67, 632.72, 239.49], 'score': 0.312}, {'image_id': '0000291_03801_d_0000887', 'category_id': 0, 'bbox': [1169.84, 182.96, 1193.32, 224.56], 'score': 0.268}, {'image_id': '0000291_04001_d_0000888', 'category_id': 2, 'bbox': [1175.96, 470.04, 1264.19, 522.91], 'score': 0.261}, {'image_id': '0000291_04201_d_0000889', 'category_id': 2, 'bbox': [1122.33, 297.67, 1155.03, 349.17], 'score': 0.257}, {'image_id': '0000291_04401_d_0000890', 'category_id': 3, 'bbox': [117.25, 499.14, 155.12, 539.01], 'score': 0.272}, {'image_id': '0000291_05001_d_0000892', 'category_id': 2, 'bbox': [1043.73, 76.38, 1120.86, 118.21], 'score': 0.265}, {'image_id': '0000291_05201_d_0000893', 'category_id': 0, 'bbox': [86.02, 550.64, 115.65, 622.4], 'score': 0.25}, {'image_id': '0000293_03601_d_0000940', 'category_id': 2, 'bbox': [500.34, 525.77, 574.29, 620.0], 'score': 0.26}, {'image_id': '0000295_00000_d_0000021', 'category_id': 2, 'bbox': [592.27, 313.34, 644.19, 381.43], 'score': 0.251}, {'image_id': '0000295_00200_d_0000022', 'category_id': 2, 'bbox': [502.8, 253.22, 545.75, 278.77], 'score': 0.255}, {'image_id': '0000295_00600_d_0000024', 'category_id': 2, 'bbox': [977.8, 589.04, 1023.55, 622.77], 'score': 0.252}, {'image_id': '0000295_00800_d_0000025', 'category_id': 2, 'bbox': [375.35, 473.02, 414.4, 506.82], 'score': 0.256}, {'image_id': '0000295_01000_d_0000026', 'category_id': 2, 'bbox': [630.68, 475.9, 672.64, 521.27], 'score': 0.269}, {'image_id': '0000295_01200_d_0000027', 'category_id': 2, 'bbox': [681.32, 588.86, 729.11, 635.01], 'score': 0.274}, {'image_id': '0000295_01400_d_0000028', 'category_id': 2, 'bbox': [575.71, 423.41, 609.4, 448.28], 'score': 0.289}, {'image_id': '0000295_01600_d_0000029', 'category_id': 2, 'bbox': [743.58, 434.89, 781.8, 471.07], 'score': 0.264}, {'image_id': '0000295_01800_d_0000030', 'category_id': 2, 'bbox': [362.54, 326.75, 423.05, 359.72], 'score': 0.252}, {'image_id': '0000295_02000_d_0000031', 'category_id': 2, 'bbox': [684.89, 282.1, 719.67, 303.1], 'score': 0.251}, {'image_id': '0000295_02200_d_0000032', 'category_id': 2, 'bbox': [0.0, 497.75, 65.95, 560.71], 'score': 0.252}, {'image_id': '0000295_02400_d_0000033', 'category_id': 2, 'bbox': [763.35, 361.55, 805.61, 387.0], 'score': 0.255}, {'image_id': '0000295_02900_d_0000034', 'category_id': 5, 'bbox': [605.74, 184.39, 651.66, 261.55], 'score': 0.258}, {'image_id': '0000296_00601_d_0000038', 'category_id': 2, 'bbox': [123.34, 273.31, 174.81, 310.45], 'score': 0.265}, {'image_id': '0000296_01001_d_0000040', 'category_id': 0, 'bbox': [336.94, 621.24, 362.17, 682.9], 'score': 0.272}, {'image_id': '0000300_03201_d_0000154', 'category_id': 0, 'bbox': [1100.37, 411.94, 1120.89, 446.73], 'score': 0.253}, {'image_id': '0000301_00001_d_0000156', 'category_id': 2, 'bbox': [0.16, 144.29, 24.52, 171.9], 'score': 0.251}, {'image_id': '0000301_00201_d_0000157', 'category_id': 0, 'bbox': [1301.27, 679.45, 1354.31, 761.92], 'score': 0.254}, {'image_id': '0000301_01001_d_0000161', 'category_id': 2, 'bbox': [703.14, 141.73, 756.7, 175.45], 'score': 0.251}, {'image_id': '0000301_01201_d_0000162', 'category_id': 2, 'bbox': [152.92, 214.65, 196.53, 249.73], 'score': 0.27}, {'image_id': '0000303_03401_d_0000200', 'category_id': 2, 'bbox': [151.15, 563.62, 225.34, 600.76], 'score': 0.279}, {'image_id': '0000308_04401_d_0000327', 'category_id': 2, 'bbox': [109.35, 322.77, 178.94, 370.56], 'score': 0.252}, {'image_id': '0000312_00001_d_0000414', 'category_id': 2, 'bbox': [1313.23, 91.63, 1359.24, 123.67], 'score': 0.251}, {'image_id': '0000312_00201_d_0000415', 'category_id': 0, 'bbox': [223.0, 496.54, 246.58, 547.27], 'score': 0.262}, {'image_id': '0000312_00601_d_0000417', 'category_id': 2, 'bbox': [373.75, 188.29, 442.9, 229.64], 'score': 0.263}, {'image_id': '0000312_01001_d_0000419', 'category_id': 2, 'bbox': [587.4, 40.61, 621.84, 67.77], 'score': 0.254}, {'image_id': '0000312_01201_d_0000420', 'category_id': 0, 'bbox': [554.69, 208.2, 568.18, 238.44], 'score': 0.259}, {'image_id': '0000312_02201_d_0000425', 'category_id': 2, 'bbox': [781.49, 461.5, 821.08, 525.01], 'score': 0.252}, {'image_id': '0000312_02401_d_0000426', 'category_id': 67, 'bbox': [561.44, 458.2, 620.16, 551.14], 'score': 0.278}, {'image_id': '0000312_04201_d_0000435', 'category_id': 2, 'bbox': [435.48, 282.68, 487.61, 352.27], 'score': 0.253}, {'image_id': '0000313_06401_d_0000468', 'category_id': 2, 'bbox': [823.79, 571.66, 862.75, 611.53], 'score': 0.257}, {'image_id': '0000313_06601_d_0000469', 'category_id': 2, 'bbox': [298.47, 558.35, 335.2, 590.15], 'score': 0.269}, {'image_id': '0000313_07001_d_0000471', 'category_id': 13, 'bbox': [834.19, 454.85, 1098.91, 627.09], 'score': 0.276}, {'image_id': '0000315_01601_d_0000509', 'category_id': 2, 'bbox': [488.69, 146.52, 523.1, 171.15], 'score': 0.25}, {'image_id': '0000316_00001_d_0000519', 'category_id': 2, 'bbox': [350.24, 602.8, 389.0, 649.91], 'score': 0.26}, {'image_id': '0000316_00201_d_0000520', 'category_id': 2, 'bbox': [839.11, 399.08, 875.02, 433.4], 'score': 0.362}, {'image_id': '0000316_00401_d_0000521', 'category_id': 2, 'bbox': [366.99, 367.21, 444.9, 400.09], 'score': 0.399}, {'image_id': '0000316_00601_d_0000522', 'category_id': 2, 'bbox': [868.57, 529.83, 923.03, 573.22], 'score': 0.353}, {'image_id': '0000316_00801_d_0000523', 'category_id': 2, 'bbox': [863.57, 563.61, 936.34, 608.31], 'score': 0.453}, {'image_id': '0000316_01001_d_0000524', 'category_id': 0, 'bbox': [417.79, 712.74, 444.43, 758.64], 'score': 0.297}, {'image_id': '0000316_01201_d_0000525', 'category_id': 2, 'bbox': [1201.47, 732.59, 1275.32, 765.0], 'score': 0.361}, {'image_id': '0000316_01401_d_0000526', 'category_id': 0, 'bbox': [205.75, 724.86, 225.56, 764.68], 'score': 0.27}, {'image_id': '0000316_01601_d_0000527', 'category_id': 0, 'bbox': [105.43, 338.2, 139.32, 430.21], 'score': 0.251}, {'image_id': '0000316_01801_d_0000528', 'category_id': 2, 'bbox': [1172.91, 178.11, 1227.81, 224.68], 'score': 0.399}, {'image_id': '0000316_02001_d_0000529', 'category_id': 2, 'bbox': [1216.75, 248.39, 1280.94, 309.1], 'score': 0.333}, {'image_id': '0000316_02201_d_0000530', 'category_id': 0, 'bbox': [972.73, 94.45, 991.78, 143.25], 'score': 0.288}, {'image_id': '0000323_02601_d_0000645', 'category_id': 2, 'bbox': [308.19, 97.25, 334.57, 120.19], 'score': 0.271}, {'image_id': '0000327_00001_d_0000711', 'category_id': 2, 'bbox': [645.16, 86.02, 670.34, 111.34], 'score': 0.278}, {'image_id': '0000327_00201_d_0000712', 'category_id': 2, 'bbox': [742.7, 124.1, 775.37, 159.69], 'score': 0.255}, {'image_id': '0000327_00401_d_0000713', 'category_id': 2, 'bbox': [1107.23, 441.77, 1154.11, 471.06], 'score': 0.251}, {'image_id': '0000327_00601_d_0000714', 'category_id': 0, 'bbox': [450.61, 477.21, 469.44, 518.15], 'score': 0.308}, {'image_id': '0000327_00801_d_0000715', 'category_id': 2, 'bbox': [608.77, 247.16, 625.43, 278.11], 'score': 0.264}, {'image_id': '0000327_01001_d_0000716', 'category_id': 2, 'bbox': [355.25, 667.58, 387.21, 725.75], 'score': 0.267}, {'image_id': '0000327_01201_d_0000717', 'category_id': 2, 'bbox': [843.15, 395.76, 937.99, 455.16], 'score': 0.26}, {'image_id': '0000327_01401_d_0000718', 'category_id': 2, 'bbox': [884.02, 461.86, 935.1, 499.54], 'score': 0.268}, {'image_id': '0000327_01801_d_0000720', 'category_id': 7, 'bbox': [827.02, 506.48, 898.88, 603.2], 'score': 0.251}, {'image_id': '0000327_02601_d_0000724', 'category_id': 2, 'bbox': [522.84, 243.91, 542.2, 275.25], 'score': 0.258}, {'image_id': '0000327_02801_d_0000725', 'category_id': 7, 'bbox': [599.29, 465.13, 657.8, 548.45], 'score': 0.255}, {'image_id': '0000327_03001_d_0000726', 'category_id': 2, 'bbox': [753.28, 236.69, 796.39, 262.96], 'score': 0.255}, {'image_id': '0000327_03201_d_0000727', 'category_id': 2, 'bbox': [870.63, 523.66, 919.69, 575.84], 'score': 0.264}, {'image_id': '0000327_03401_d_0000728', 'category_id': 5, 'bbox': [1200.87, 42.3, 1359.21, 699.04], 'score': 0.307}, {'image_id': '0000327_03601_d_0000729', 'category_id': 7, 'bbox': [862.95, 596.1, 1023.94, 762.91], 'score': 0.282}, {'image_id': '0000327_03801_d_0000730', 'category_id': 2, 'bbox': [977.55, 528.5, 1076.15, 610.93], 'score': 0.251}, {'image_id': '0000327_04001_d_0000731', 'category_id': 2, 'bbox': [607.79, 209.24, 644.57, 236.08], 'score': 0.275}, {'image_id': '0000327_04201_d_0000732', 'category_id': 2, 'bbox': [188.77, 307.68, 264.48, 344.13], 'score': 0.26}, {'image_id': '0000330_00001_d_0000800', 'category_id': 0, 'bbox': [1087.65, 686.54, 1104.86, 730.61], 'score': 0.259}, {'image_id': '0000330_00201_d_0000801', 'category_id': 2, 'bbox': [1050.25, 395.48, 1118.91, 447.95], 'score': 0.253}, {'image_id': '0000330_00401_d_0000802', 'category_id': 2, 'bbox': [947.4, 271.86, 1001.76, 310.95], 'score': 0.267}, {'image_id': '0000330_00601_d_0000803', 'category_id': 2, 'bbox': [1324.24, 696.48, 1359.5, 761.5], 'score': 0.277}, {'image_id': '0000330_00801_d_0000804', 'category_id': 2, 'bbox': [1026.55, 378.26, 1064.15, 404.3], 'score': 0.263}, {'image_id': '0000330_01001_d_0000805', 'category_id': 2, 'bbox': [1063.09, 368.18, 1098.48, 398.47], 'score': 0.262}, {'image_id': '0000330_01201_d_0000806', 'category_id': 0, 'bbox': [225.88, 664.53, 264.75, 727.12], 'score': 0.263}, {'image_id': '0000330_01401_d_0000807', 'category_id': 2, 'bbox': [981.92, 154.35, 1030.1, 175.88], 'score': 0.26}, {'image_id': '0000330_01601_d_0000808', 'category_id': 7, 'bbox': [646.69, 680.06, 726.6, 765.0], 'score': 0.256}, {'image_id': '0000330_01801_d_0000809', 'category_id': 2, 'bbox': [888.0, 31.61, 919.26, 60.44], 'score': 0.259}, {'image_id': '0000330_02001_d_0000810', 'category_id': 2, 'bbox': [1325.45, 435.11, 1359.52, 493.1], 'score': 0.339}, {'image_id': '0000330_02201_d_0000811', 'category_id': 2, 'bbox': [279.36, 1.81, 310.58, 23.99], 'score': 0.278}, {'image_id': '0000330_02801_d_0000814', 'category_id': 2, 'bbox': [961.83, 38.72, 995.38, 66.46], 'score': 0.254}, {'image_id': '0000330_03001_d_0000815', 'category_id': 2, 'bbox': [1012.41, 152.53, 1035.11, 173.77], 'score': 0.251}, {'image_id': '0000330_03201_d_0000816', 'category_id': 5, 'bbox': [605.55, 437.98, 680.66, 562.16], 'score': 0.265}, {'image_id': '0000330_04001_d_0000820', 'category_id': 7, 'bbox': [959.64, 0.0, 1106.37, 77.38], 'score': 0.263}, {'image_id': '0000330_04201_d_0000821', 'category_id': 2, 'bbox': [49.85, 235.65, 123.28, 292.88], 'score': 0.263}, {'image_id': '0000330_04401_d_0000822', 'category_id': 2, 'bbox': [722.84, 200.12, 748.69, 221.78], 'score': 0.255}, {'image_id': '0000330_04601_d_0000823', 'category_id': 0, 'bbox': [1275.39, 279.35, 1308.33, 320.3], 'score': 0.257}, {'image_id': '0000333_00001_d_0000001', 'category_id': 2, 'bbox': [1055.21, 526.21, 1098.09, 582.1], 'score': 0.255}, {'image_id': '0000333_01765_d_0000010', 'category_id': 2, 'bbox': [1110.2, 595.34, 1159.87, 636.47], 'score': 0.277}, {'image_id': '0000333_01961_d_0000011', 'category_id': 2, 'bbox': [1110.2, 595.34, 1159.87, 636.47], 'score': 0.277}, {'image_id': '0000333_02157_d_0000012', 'category_id': 2, 'bbox': [1110.2, 595.34, 1159.87, 636.47], 'score': 0.277}, {'image_id': '0000333_02353_d_0000013', 'category_id': 73, 'bbox': [871.9, 146.34, 921.91, 252.51], 'score': 0.308}, {'image_id': '0000333_02549_d_0000014', 'category_id': 73, 'bbox': [871.9, 146.34, 921.91, 252.51], 'score': 0.308}, {'image_id': '0000333_02745_d_0000015', 'category_id': 73, 'bbox': [871.9, 146.34, 921.91, 252.51], 'score': 0.308}, {'image_id': '0000333_02941_d_0000016', 'category_id': 73, 'bbox': [871.9, 146.34, 921.91, 252.51], 'score': 0.308}, {'image_id': '0000333_03137_d_0000017', 'category_id': 73, 'bbox': [871.9, 146.34, 921.91, 252.51], 'score': 0.308}, {'image_id': '0000333_03333_d_0000018', 'category_id': 73, 'bbox': [871.9, 146.34, 921.91, 252.51], 'score': 0.308}, {'image_id': '0000333_03529_d_0000019', 'category_id': 28, 'bbox': [1162.82, 470.71, 1280.88, 555.86], 'score': 0.267}, {'image_id': '0000333_03725_d_0000020', 'category_id': 7, 'bbox': [1025.41, 202.81, 1069.67, 228.06], 'score': 0.288}, {'image_id': '0000335_00001_d_0000043', 'category_id': 2, 'bbox': [838.17, 495.8, 919.57, 564.56], 'score': 0.258}, {'image_id': '0000335_00197_d_0000044', 'category_id': 2, 'bbox': [789.11, 213.96, 810.85, 253.89], 'score': 0.254}, {'image_id': '0000335_00393_d_0000045', 'category_id': 2, 'bbox': [401.02, 227.49, 441.08, 253.6], 'score': 0.296}, {'image_id': '0000335_00589_d_0000046', 'category_id': 58, 'bbox': [1209.5, 302.68, 1359.58, 440.47], 'score': 0.256}, {'image_id': '0000335_00785_d_0000047', 'category_id': 2, 'bbox': [611.5, 61.08, 633.92, 87.07], 'score': 0.253}, {'image_id': '0000335_00981_d_0000048', 'category_id': 0, 'bbox': [836.53, 722.03, 856.43, 763.93], 'score': 0.27}, {'image_id': '0000335_01765_d_0000052', 'category_id': 2, 'bbox': [633.82, 114.99, 662.3, 150.22], 'score': 0.29}, {'image_id': '0000335_01961_d_0000053', 'category_id': 0, 'bbox': [732.0, 700.12, 762.75, 761.81], 'score': 0.256}, {'image_id': '0000335_02353_d_0000055', 'category_id': 2, 'bbox': [0.05, 327.87, 36.29, 360.7], 'score': 0.256}, {'image_id': '0000335_02549_d_0000056', 'category_id': 2, 'bbox': [597.32, 162.57, 627.0, 199.34], 'score': 0.26}, {'image_id': '0000335_02745_d_0000057', 'category_id': 0, 'bbox': [927.1, 409.08, 947.7, 459.9], 'score': 0.251}, {'image_id': '0000335_03137_d_0000059', 'category_id': 2, 'bbox': [269.03, 313.17, 315.77, 365.6], 'score': 0.253}, {'image_id': '0000335_03333_d_0000060', 'category_id': 0, 'bbox': [205.64, 90.06, 224.05, 129.26], 'score': 0.26}, {'image_id': '0000335_03725_d_0000062', 'category_id': 0, 'bbox': [295.17, 576.88, 327.62, 627.35], 'score': 0.33}, {'image_id': '0000335_03921_d_0000063', 'category_id': 0, 'bbox': [1111.67, 327.68, 1141.68, 366.82], 'score': 0.259}, {'image_id': '0000335_04117_d_0000064', 'category_id': 0, 'bbox': [1062.18, 403.32, 1087.26, 449.0], 'score': 0.343}, {'image_id': '0000335_04313_d_0000065', 'category_id': 2, 'bbox': [995.89, 87.0, 1033.56, 117.98], 'score': 0.261}, {'image_id': '0000335_05097_d_0000069', 'category_id': 0, 'bbox': [315.99, 212.06, 332.81, 254.31], 'score': 0.36}, {'image_id': '0000335_05685_d_0000072', 'category_id': 2, 'bbox': [1196.78, 693.81, 1359.43, 763.51], 'score': 0.256}, {'image_id': '0000335_06469_d_0000076', 'category_id': 0, 'bbox': [190.27, 146.13, 205.56, 188.05], 'score': 0.479}, {'image_id': '0000335_06665_d_0000077', 'category_id': 2, 'bbox': [1108.32, 373.48, 1353.48, 467.91], 'score': 0.256}, {'image_id': '0000335_06861_d_0000078', 'category_id': 7, 'bbox': [656.88, 587.2, 799.76, 765.0], 'score': 0.262}, {'image_id': '0000342_00393_d_0000244', 'category_id': 2, 'bbox': [1145.0, 394.04, 1188.22, 433.98], 'score': 0.258}, {'image_id': '0000345_07057_d_0000345', 'category_id': 0, 'bbox': [745.82, 212.99, 767.64, 252.48], 'score': 0.256}, {'image_id': '0000346_00001_d_0000346', 'category_id': 2, 'bbox': [755.11, 281.71, 814.22, 327.78], 'score': 0.264}, {'image_id': '0000346_01961_d_0000356', 'category_id': 2, 'bbox': [450.42, 247.16, 483.87, 278.41], 'score': 0.287}, {'image_id': '0000346_02549_d_0000359', 'category_id': 2, 'bbox': [48.01, 626.61, 191.74, 740.43], 'score': 0.263}, {'image_id': '0000346_03921_d_0000366', 'category_id': 0, 'bbox': [877.81, 738.77, 904.24, 765.0], 'score': 0.322}, {'image_id': '0000346_07057_d_0000382', 'category_id': 3, 'bbox': [1301.1, 500.09, 1355.88, 554.16], 'score': 0.258}, {'image_id': '0000348_00589_d_0000409', 'category_id': 7, 'bbox': [503.92, 85.49, 566.27, 164.78], 'score': 0.265}, {'image_id': '0000348_03333_d_0000423', 'category_id': 0, 'bbox': [282.56, 400.14, 305.0, 451.53], 'score': 0.266}, {'image_id': '0000356_00589_d_0000632', 'category_id': 2, 'bbox': [630.32, 246.55, 678.52, 300.9], 'score': 0.252}, {'image_id': '0000356_01177_d_0000635', 'category_id': 0, 'bbox': [1189.06, 261.92, 1203.17, 291.47], 'score': 0.274}, {'image_id': '0000356_01569_d_0000637', 'category_id': 0, 'bbox': [1101.8, 343.39, 1121.62, 384.78], 'score': 0.261}, {'image_id': '0000356_01765_d_0000638', 'category_id': 2, 'bbox': [1309.14, 273.61, 1360.0, 317.67], 'score': 0.264}, {'image_id': '0000356_01961_d_0000639', 'category_id': 2, 'bbox': [0.26, 632.95, 114.43, 763.3], 'score': 0.267}, {'image_id': '0000356_02157_d_0000640', 'category_id': 3, 'bbox': [1271.25, 577.94, 1304.05, 627.29], 'score': 0.254}, {'image_id': '0000356_02353_d_0000641', 'category_id': 2, 'bbox': [923.95, 199.19, 989.12, 229.05], 'score': 0.257}, {'image_id': '0000356_02745_d_0000643', 'category_id': 2, 'bbox': [669.4, 306.96, 725.78, 400.3], 'score': 0.254}, {'image_id': '0000356_02941_d_0000644', 'category_id': 2, 'bbox': [620.21, 130.06, 655.38, 167.24], 'score': 0.404}, {'image_id': '0000356_03333_d_0000646', 'category_id': 2, 'bbox': [227.8, 341.62, 357.25, 402.81], 'score': 0.294}, {'image_id': '0000356_03529_d_0000647', 'category_id': 2, 'bbox': [357.48, 402.96, 414.57, 455.24], 'score': 0.256}, {'image_id': '0000356_03725_d_0000648', 'category_id': 2, 'bbox': [1043.32, 97.72, 1104.88, 125.81], 'score': 0.251}, {'image_id': '0000356_03921_d_0000649', 'category_id': 2, 'bbox': [1096.74, 114.22, 1165.29, 143.66], 'score': 0.308}, {'image_id': '0000356_04117_d_0000650', 'category_id': 2, 'bbox': [227.6, 76.34, 274.55, 124.18], 'score': 0.275}, {'image_id': '0000356_04313_d_0000651', 'category_id': 0, 'bbox': [789.23, 302.39, 812.28, 357.62], 'score': 0.25}, {'image_id': '0000356_04705_d_0000653', 'category_id': 2, 'bbox': [424.55, 169.18, 458.86, 208.27], 'score': 0.258}, {'image_id': '0000356_04901_d_0000654', 'category_id': 2, 'bbox': [896.91, 341.67, 966.68, 380.46], 'score': 0.254}, {'image_id': '0000356_05097_d_0000655', 'category_id': 1, 'bbox': [33.15, 704.73, 110.17, 765.0], 'score': 0.261}, {'image_id': '0000358_03333_d_0000697', 'category_id': 2, 'bbox': [868.56, 249.55, 896.19, 276.43], 'score': 0.271}, {'image_id': '0000359_00393_d_0000701', 'category_id': 7, 'bbox': [1197.68, 211.96, 1247.0, 259.61], 'score': 0.298}, {'image_id': '0000359_00589_d_0000702', 'category_id': 0, 'bbox': [433.03, 229.16, 452.63, 272.58], 'score': 0.259}, {'image_id': '0000359_00785_d_0000703', 'category_id': 2, 'bbox': [849.62, 152.2, 889.5, 174.94], 'score': 0.266}, {'image_id': '0000359_00981_d_0000704', 'category_id': 2, 'bbox': [595.16, 253.35, 621.36, 302.42], 'score': 0.257}, {'image_id': '0000359_01177_d_0000705', 'category_id': 0, 'bbox': [309.3, 169.3, 321.1, 197.88], 'score': 0.313}, {'image_id': '0000359_01373_d_0000706', 'category_id': 2, 'bbox': [1085.7, 73.89, 1157.38, 123.42], 'score': 0.251}, {'image_id': '0000359_01961_d_0000707', 'category_id': 2, 'bbox': [855.82, 49.19, 958.92, 96.04], 'score': 0.261}, {'image_id': '0000359_02353_d_0000708', 'category_id': 2, 'bbox': [1099.04, 243.82, 1134.48, 269.14], 'score': 0.348}, {'image_id': '0000359_02549_d_0000709', 'category_id': 2, 'bbox': [1158.24, 157.71, 1200.18, 197.33], 'score': 0.288}, {'image_id': '0000359_03333_d_0000711', 'category_id': 2, 'bbox': [556.78, 439.29, 599.94, 499.55], 'score': 0.254}, {'image_id': '0000359_03529_d_0000712', 'category_id': 7, 'bbox': [570.97, 129.92, 655.15, 248.86], 'score': 0.392}, {'image_id': '0000360_00001_d_0000713', 'category_id': 2, 'bbox': [726.93, 53.3, 764.22, 88.49], 'score': 0.253}, {'image_id': '0000360_00197_d_0000714', 'category_id': 2, 'bbox': [795.36, 49.12, 831.16, 80.78], 'score': 0.26}, {'image_id': '0000360_00393_d_0000715', 'category_id': 0, 'bbox': [513.54, 469.87, 540.9, 524.38], 'score': 0.262}, {'image_id': '0000360_00589_d_0000716', 'category_id': 2, 'bbox': [315.46, 168.21, 402.3, 216.28], 'score': 0.252}, {'image_id': '0000360_00785_d_0000717', 'category_id': 0, 'bbox': [964.2, 594.3, 990.83, 641.15], 'score': 0.275}, {'image_id': '0000360_00981_d_0000718', 'category_id': 2, 'bbox': [0.25, 331.25, 90.93, 382.67], 'score': 0.279}, {'image_id': '0000360_02353_d_0000725', 'category_id': 2, 'bbox': [902.59, 245.5, 947.76, 276.56], 'score': 0.276}, {'image_id': '0000360_02745_d_0000727', 'category_id': 2, 'bbox': [291.26, 116.64, 316.97, 152.94], 'score': 0.272}, {'image_id': '0000360_02941_d_0000728', 'category_id': 2, 'bbox': [329.26, 220.24, 381.13, 274.5], 'score': 0.258}, {'image_id': '0000360_03137_d_0000729', 'category_id': 2, 'bbox': [816.76, 45.76, 852.81, 72.34], 'score': 0.289}, {'image_id': '0000360_03333_d_0000730', 'category_id': 5, 'bbox': [489.08, 506.12, 571.03, 644.24], 'score': 0.294}, {'image_id': '0000360_03529_d_0000731', 'category_id': 0, 'bbox': [385.19, 257.76, 418.88, 316.86], 'score': 0.283}, {'image_id': '0000360_03921_d_0000733', 'category_id': 2, 'bbox': [775.98, 158.05, 809.39, 195.29], 'score': 0.44}, {'image_id': '0000360_04117_d_0000734', 'category_id': 7, 'bbox': [911.76, 17.14, 989.63, 107.71], 'score': 0.272}, {'image_id': '0000360_04705_d_0000737', 'category_id': 8, 'bbox': [595.27, 274.58, 681.8, 338.7], 'score': 0.296}, {'image_id': '0000360_05293_d_0000740', 'category_id': 0, 'bbox': [893.41, 306.95, 910.77, 375.49], 'score': 0.26}, {'image_id': '0000360_05685_d_0000742', 'category_id': 2, 'bbox': [56.26, 72.76, 100.38, 95.74], 'score': 0.255}, {'image_id': '0000360_06273_d_0000745', 'category_id': 0, 'bbox': [1048.95, 498.43, 1089.15, 553.51], 'score': 0.255}, {'image_id': '0000360_06665_d_0000747', 'category_id': 2, 'bbox': [542.03, 96.95, 585.48, 142.4], 'score': 0.262}, {'image_id': '0000360_06861_d_0000748', 'category_id': 0, 'bbox': [1324.56, 667.97, 1359.23, 756.13], 'score': 0.262}, {'image_id': '0000360_07057_d_0000749', 'category_id': 2, 'bbox': [879.61, 83.52, 910.61, 124.95], 'score': 0.286}, {'image_id': '0000360_07253_d_0000750', 'category_id': 2, 'bbox': [823.83, 30.47, 874.45, 88.35], 'score': 0.276}, {'image_id': '0000360_07645_d_0000752', 'category_id': 0, 'bbox': [387.19, 104.57, 413.58, 146.7], 'score': 0.259}, {'image_id': '0000364_00589_d_0000798', 'category_id': 2, 'bbox': [301.39, 359.04, 350.12, 415.62], 'score': 0.27}, {'image_id': '0000364_01177_d_0000799', 'category_id': 2, 'bbox': [89.2, 474.72, 148.47, 527.76], 'score': 0.263}, {'image_id': '0000364_01373_d_0000780', 'category_id': 2, 'bbox': [596.71, 370.2, 648.37, 414.95], 'score': 0.269}, {'image_id': '0000364_01569_d_0000781', 'category_id': 0, 'bbox': [457.84, 306.0, 470.89, 332.58], 'score': 0.251}, {'image_id': '0000364_01765_d_0000782', 'category_id': 2, 'bbox': [408.04, 146.63, 435.67, 163.46], 'score': 0.275}]\n"
          ]
        }
      ]
    },
    {
      "cell_type": "code",
      "source": [
        "#/content/drive/MyDrive/258-DL/HW2-ObjectDetection/datasets/val-coco-single.json"
      ],
      "metadata": {
        "id": "C2LxxEun_xwy"
      },
      "execution_count": null,
      "outputs": []
    },
    {
      "cell_type": "code",
      "source": [
        "# %cd /content/drive/MyDrive/258-DL/HW2-ObjectDetection/datasets/visdrone/\n",
        "# !unzip /content/drive/MyDrive/258-DL/HW2-ObjectDetection/datasets/visdrone/VisDrone2019-DET-val.zip"
      ],
      "metadata": {
        "id": "sEby8QZuAJLh"
      },
      "execution_count": null,
      "outputs": []
    },
    {
      "cell_type": "code",
      "source": [
        "%matplotlib inline\n",
        "import matplotlib.pyplot as plt\n",
        "from pycocotools.coco import COCO\n",
        "from pycocotools.cocoeval import COCOeval\n",
        "import numpy as np\n",
        "import skimage.io as io\n",
        "import pylab\n",
        "pylab.rcParams['figure.figsize'] = (10.0, 8.0)"
      ],
      "metadata": {
        "id": "_39ifpET472z"
      },
      "execution_count": 13,
      "outputs": []
    },
    {
      "cell_type": "code",
      "source": [
        "# annFile = \"/content/val-ground-truth.json\"\n",
        "annFile = \"/content/dataset/visdrone_coco.json\"\n",
        "# annFile = \"/content/instances_val.json\"\n",
        "cocoGt=COCO(annFile)"
      ],
      "metadata": {
        "colab": {
          "base_uri": "https://localhost:8080/"
        },
        "id": "6i9ShNSM5A70",
        "outputId": "fb48e52b-41d7-4724-83a9-4d80b88a34f3"
      },
      "execution_count": 17,
      "outputs": [
        {
          "output_type": "stream",
          "name": "stdout",
          "text": [
            "loading annotations into memory...\n",
            "Done (t=0.13s)\n",
            "creating index...\n",
            "index created!\n"
          ]
        }
      ]
    },
    {
      "cell_type": "code",
      "source": [
        "resFile = \"/content/inference-coco.json\"\n",
        "# resFile = \"/content/instances_val2014_fakebbox100_results.json\"\n",
        "cocoDt=cocoGt.loadRes(resFile)"
      ],
      "metadata": {
        "colab": {
          "base_uri": "https://localhost:8080/"
        },
        "id": "0f_7PePz5C9r",
        "outputId": "afb82b51-c940-416d-e6e3-9ee9c8d08f31"
      },
      "execution_count": 18,
      "outputs": [
        {
          "output_type": "stream",
          "name": "stdout",
          "text": [
            "Loading and preparing results...\n",
            "DONE (t=0.01s)\n",
            "creating index...\n",
            "index created!\n"
          ]
        }
      ]
    },
    {
      "cell_type": "code",
      "source": [
        "imgIds=sorted(cocoGt.getImgIds())\n",
        "# imgIds=imgIds\n",
        "imgIds=imgIds[0:100]\n",
        "imgId = imgIds[np.random.randint(100)]\n",
        "# running evaluation\n",
        "cocoEval = COCOeval(cocoGt,cocoDt,\"bbox\")\n",
        "# cocoEval.params.imgIds  = imgIds\n",
        "cocoEval.evaluate()\n",
        "cocoEval.accumulate()\n",
        "cocoEval.summarize()\n"
      ],
      "metadata": {
        "colab": {
          "base_uri": "https://localhost:8080/"
        },
        "id": "1qf2XQ_N5mdz",
        "outputId": "36d8629e-ba1c-496f-b737-16ddfae125e9"
      },
      "execution_count": 19,
      "outputs": [
        {
          "output_type": "stream",
          "name": "stdout",
          "text": [
            "Running per image evaluation...\n",
            "Evaluate annotation type *bbox*\n",
            "DONE (t=0.64s).\n",
            "Accumulating evaluation results...\n",
            "DONE (t=0.09s).\n",
            " Average Precision  (AP) @[ IoU=0.50:0.95 | area=   all | maxDets=100 ] = 0.000\n",
            " Average Precision  (AP) @[ IoU=0.50      | area=   all | maxDets=100 ] = 0.000\n",
            " Average Precision  (AP) @[ IoU=0.75      | area=   all | maxDets=100 ] = 0.000\n",
            " Average Precision  (AP) @[ IoU=0.50:0.95 | area= small | maxDets=100 ] = 0.000\n",
            " Average Precision  (AP) @[ IoU=0.50:0.95 | area=medium | maxDets=100 ] = 0.000\n",
            " Average Precision  (AP) @[ IoU=0.50:0.95 | area= large | maxDets=100 ] = 0.000\n",
            " Average Recall     (AR) @[ IoU=0.50:0.95 | area=   all | maxDets=  1 ] = 0.000\n",
            " Average Recall     (AR) @[ IoU=0.50:0.95 | area=   all | maxDets= 10 ] = 0.000\n",
            " Average Recall     (AR) @[ IoU=0.50:0.95 | area=   all | maxDets=100 ] = 0.000\n",
            " Average Recall     (AR) @[ IoU=0.50:0.95 | area= small | maxDets=100 ] = 0.000\n",
            " Average Recall     (AR) @[ IoU=0.50:0.95 | area=medium | maxDets=100 ] = 0.000\n",
            " Average Recall     (AR) @[ IoU=0.50:0.95 | area= large | maxDets=100 ] = 0.000\n"
          ]
        }
      ]
    },
    {
      "cell_type": "code",
      "source": [
        "!yolo detect val model=yolov8n.pt"
      ],
      "metadata": {
        "colab": {
          "base_uri": "https://localhost:8080/"
        },
        "id": "OIgGeO5YOqnM",
        "outputId": "918bb654-58ca-4d2e-9fad-8d183522dabb"
      },
      "execution_count": 15,
      "outputs": [
        {
          "output_type": "stream",
          "name": "stdout",
          "text": [
            "WARNING ⚠️ 'data' is missing. Using default 'data=coco8.yaml'.\n",
            "Ultralytics YOLOv8.0.208 🚀 Python-3.10.12 torch-2.1.0+cu118 CPU (Intel Xeon 2.20GHz)\n",
            "YOLOv8n summary (fused): 168 layers, 3151904 parameters, 0 gradients, 8.7 GFLOPs\n",
            "\n",
            "Dataset 'coco8.yaml' images not found ⚠️, missing path '/content/datasets/coco8/images/val'\n",
            "Downloading https://ultralytics.com/assets/coco8.zip to '/content/datasets/coco8.zip'...\n",
            "100% 433k/433k [00:00<00:00, 30.5MB/s]\n",
            "Unzipping /content/datasets/coco8.zip to /content/datasets/coco8...: 100% 25/25 [00:00<00:00, 3168.57file/s]\n",
            "Dataset download success ✅ (1.4s), saved to \u001b[1m/content/datasets\u001b[0m\n",
            "\n",
            "Downloading https://ultralytics.com/assets/Arial.ttf to '/root/.config/Ultralytics/Arial.ttf'...\n",
            "100% 755k/755k [00:00<00:00, 37.6MB/s]\n",
            "\u001b[34m\u001b[1mval: \u001b[0mScanning /content/datasets/coco8/labels/val... 4 images, 0 backgrounds, 0 corrupt: 100% 4/4 [00:00<00:00, 365.59it/s]\n",
            "\u001b[34m\u001b[1mval: \u001b[0mNew cache created: /content/datasets/coco8/labels/val.cache\n",
            "                 Class     Images  Instances      Box(P          R      mAP50  mAP50-95): 100% 1/1 [00:01<00:00,  1.91s/it]\n",
            "                   all          4         17      0.621      0.833      0.888       0.63\n",
            "                person          4         10      0.721        0.5      0.519      0.269\n",
            "                   dog          4          1       0.37          1      0.995      0.597\n",
            "                 horse          4          2      0.751          1      0.995      0.631\n",
            "              elephant          4          2      0.505        0.5      0.828      0.394\n",
            "              umbrella          4          1      0.564          1      0.995      0.995\n",
            "          potted plant          4          1      0.814          1      0.995      0.895\n",
            "Speed: 28.6ms preprocess, 412.2ms inference, 0.0ms loss, 2.7ms postprocess per image\n",
            "Results saved to \u001b[1mruns/detect/val\u001b[0m\n",
            "💡 Learn more at https://docs.ultralytics.com/modes/val\n"
          ]
        }
      ]
    },
    {
      "cell_type": "code",
      "source": [
        "model = YOLO('yolov8n.pt')\n",
        "# %cd /content"
      ],
      "metadata": {
        "colab": {
          "base_uri": "https://localhost:8080/"
        },
        "id": "82vK32KDO1EM",
        "outputId": "e167837a-11db-44d4-ab46-77d164514769"
      },
      "execution_count": 16,
      "outputs": [
        {
          "output_type": "stream",
          "name": "stdout",
          "text": [
            "/content\n"
          ]
        }
      ]
    },
    {
      "cell_type": "code",
      "source": [
        "results = model.train(epochs=5, imgsz=640, save=True, optimizer='SGD', val=True,  momentum=0.8)"
      ],
      "metadata": {
        "colab": {
          "base_uri": "https://localhost:8080/"
        },
        "id": "dTZXUbfHSHIw",
        "outputId": "a330e76a-a73c-435e-bb7d-aaa62c2d72f3"
      },
      "execution_count": 19,
      "outputs": [
        {
          "output_type": "stream",
          "name": "stderr",
          "text": [
            "Ultralytics YOLOv8.0.208 🚀 Python-3.10.12 torch-2.1.0+cu118 CPU (Intel Xeon 2.20GHz)\n",
            "\u001b[34m\u001b[1mengine/trainer: \u001b[0mtask=detect, mode=train, model=yolov8n.pt, data=coco8.yaml, epochs=5, patience=50, batch=16, imgsz=640, save=True, save_period=-1, cache=False, device=None, workers=8, project=None, name=train, exist_ok=False, pretrained=True, optimizer=SGD, verbose=True, seed=0, deterministic=True, single_cls=False, rect=False, cos_lr=False, close_mosaic=10, resume=False, amp=True, fraction=1.0, profile=False, freeze=None, overlap_mask=True, mask_ratio=4, dropout=0.0, val=True, split=val, save_json=False, save_hybrid=False, conf=None, iou=0.7, max_det=300, half=False, dnn=False, plots=True, source=None, show=False, save_txt=False, save_conf=False, save_crop=False, show_labels=True, show_conf=True, vid_stride=1, stream_buffer=False, line_width=None, visualize=False, augment=False, agnostic_nms=False, classes=None, retina_masks=False, boxes=True, format=torchscript, keras=False, optimize=False, int8=False, dynamic=False, simplify=False, opset=None, workspace=4, nms=False, lr0=0.01, lrf=0.01, momentum=0.8, weight_decay=0.0005, warmup_epochs=3.0, warmup_momentum=0.8, warmup_bias_lr=0.1, box=7.5, cls=0.5, dfl=1.5, pose=12.0, kobj=1.0, label_smoothing=0.0, nbs=64, hsv_h=0.015, hsv_s=0.7, hsv_v=0.4, degrees=0.0, translate=0.1, scale=0.5, shear=0.0, perspective=0.0, flipud=0.0, fliplr=0.5, mosaic=1.0, mixup=0.0, copy_paste=0.0, cfg=None, tracker=botsort.yaml, save_dir=runs/detect/train\n",
            "\n",
            "                   from  n    params  module                                       arguments                     \n",
            "  0                  -1  1       464  ultralytics.nn.modules.conv.Conv             [3, 16, 3, 2]                 \n",
            "  1                  -1  1      4672  ultralytics.nn.modules.conv.Conv             [16, 32, 3, 2]                \n",
            "  2                  -1  1      7360  ultralytics.nn.modules.block.C2f             [32, 32, 1, True]             \n",
            "  3                  -1  1     18560  ultralytics.nn.modules.conv.Conv             [32, 64, 3, 2]                \n",
            "  4                  -1  2     49664  ultralytics.nn.modules.block.C2f             [64, 64, 2, True]             \n",
            "  5                  -1  1     73984  ultralytics.nn.modules.conv.Conv             [64, 128, 3, 2]               \n",
            "  6                  -1  2    197632  ultralytics.nn.modules.block.C2f             [128, 128, 2, True]           \n",
            "  7                  -1  1    295424  ultralytics.nn.modules.conv.Conv             [128, 256, 3, 2]              \n",
            "  8                  -1  1    460288  ultralytics.nn.modules.block.C2f             [256, 256, 1, True]           \n",
            "  9                  -1  1    164608  ultralytics.nn.modules.block.SPPF            [256, 256, 5]                 \n",
            " 10                  -1  1         0  torch.nn.modules.upsampling.Upsample         [None, 2, 'nearest']          \n",
            " 11             [-1, 6]  1         0  ultralytics.nn.modules.conv.Concat           [1]                           \n",
            " 12                  -1  1    148224  ultralytics.nn.modules.block.C2f             [384, 128, 1]                 \n",
            " 13                  -1  1         0  torch.nn.modules.upsampling.Upsample         [None, 2, 'nearest']          \n",
            " 14             [-1, 4]  1         0  ultralytics.nn.modules.conv.Concat           [1]                           \n",
            " 15                  -1  1     37248  ultralytics.nn.modules.block.C2f             [192, 64, 1]                  \n",
            " 16                  -1  1     36992  ultralytics.nn.modules.conv.Conv             [64, 64, 3, 2]                \n",
            " 17            [-1, 12]  1         0  ultralytics.nn.modules.conv.Concat           [1]                           \n",
            " 18                  -1  1    123648  ultralytics.nn.modules.block.C2f             [192, 128, 1]                 \n",
            " 19                  -1  1    147712  ultralytics.nn.modules.conv.Conv             [128, 128, 3, 2]              \n",
            " 20             [-1, 9]  1         0  ultralytics.nn.modules.conv.Concat           [1]                           \n",
            " 21                  -1  1    493056  ultralytics.nn.modules.block.C2f             [384, 256, 1]                 \n",
            " 22        [15, 18, 21]  1    897664  ultralytics.nn.modules.head.Detect           [80, [64, 128, 256]]          \n",
            "Model summary: 225 layers, 3157200 parameters, 3157184 gradients, 8.9 GFLOPs\n",
            "\n",
            "Transferred 355/355 items from pretrained weights\n",
            "\u001b[34m\u001b[1mTensorBoard: \u001b[0mStart with 'tensorboard --logdir runs/detect/train', view at http://localhost:6006/\n",
            "Freezing layer 'model.22.dfl.conv.weight'\n",
            "\u001b[34m\u001b[1mtrain: \u001b[0mScanning /content/datasets/coco8/labels/train... 4 images, 0 backgrounds, 0 corrupt: 100%|██████████| 4/4 [00:00<00:00, 22310.13it/s]\n",
            "\u001b[34m\u001b[1mtrain: \u001b[0mNew cache created: /content/datasets/coco8/labels/train.cache\n",
            "\u001b[34m\u001b[1malbumentations: \u001b[0mBlur(p=0.01, blur_limit=(3, 7)), MedianBlur(p=0.01, blur_limit=(3, 7)), ToGray(p=0.01), CLAHE(p=0.01, clip_limit=(1, 4.0), tile_grid_size=(8, 8))\n",
            "\u001b[34m\u001b[1mval: \u001b[0mScanning /content/datasets/coco8/labels/val.cache... 4 images, 0 backgrounds, 0 corrupt: 100%|██████████| 4/4 [00:00<?, ?it/s]\n",
            "Plotting labels to runs/detect/train/labels.jpg... \n",
            "\u001b[34m\u001b[1moptimizer:\u001b[0m SGD(lr=0.01, momentum=0.8) with parameter groups 57 weight(decay=0.0), 64 weight(decay=0.0005), 63 bias(decay=0.0)\n",
            "Image sizes 640 train, 640 val\n",
            "Using 0 dataloader workers\n",
            "Logging results to \u001b[1mruns/detect/train\u001b[0m\n",
            "Starting training for 5 epochs...\n",
            "\n",
            "      Epoch    GPU_mem   box_loss   cls_loss   dfl_loss  Instances       Size\n",
            "        1/5         0G      1.408      3.273      1.584         37        640: 100%|██████████| 1/1 [00:04<00:00,  4.28s/it]\n",
            "                 Class     Images  Instances      Box(P          R      mAP50  mAP50-95): 100%|██████████| 1/1 [00:01<00:00,  1.40s/it]\n",
            "                   all          4         17      0.901      0.523      0.727      0.512\n",
            "\n",
            "      Epoch    GPU_mem   box_loss   cls_loss   dfl_loss  Instances       Size\n",
            "        2/5         0G      1.253      3.021      1.525         39        640: 100%|██████████| 1/1 [00:05<00:00,  5.66s/it]\n",
            "                 Class     Images  Instances      Box(P          R      mAP50  mAP50-95): 100%|██████████| 1/1 [00:02<00:00,  2.14s/it]\n",
            "                   all          4         17      0.905      0.532       0.74      0.504\n",
            "\n",
            "      Epoch    GPU_mem   box_loss   cls_loss   dfl_loss  Instances       Size\n",
            "        3/5         0G      1.298      3.922      1.649         18        640: 100%|██████████| 1/1 [00:03<00:00,  3.27s/it]\n",
            "                 Class     Images  Instances      Box(P          R      mAP50  mAP50-95): 100%|██████████| 1/1 [00:01<00:00,  1.29s/it]\n",
            "                   all          4         17      0.906      0.537       0.75      0.515\n",
            "\n",
            "      Epoch    GPU_mem   box_loss   cls_loss   dfl_loss  Instances       Size\n",
            "        4/5         0G      1.208      3.657      1.542         43        640: 100%|██████████| 1/1 [00:03<00:00,  3.15s/it]\n",
            "                 Class     Images  Instances      Box(P          R      mAP50  mAP50-95): 100%|██████████| 1/1 [00:01<00:00,  1.16s/it]\n",
            "                   all          4         17      0.908      0.541      0.777      0.533\n",
            "\n",
            "      Epoch    GPU_mem   box_loss   cls_loss   dfl_loss  Instances       Size\n",
            "        5/5         0G     0.9324      2.385      1.345         18        640: 100%|██████████| 1/1 [00:04<00:00,  4.56s/it]\n",
            "                 Class     Images  Instances      Box(P          R      mAP50  mAP50-95): 100%|██████████| 1/1 [00:01<00:00,  1.80s/it]\n",
            "                   all          4         17       0.91      0.544      0.749      0.527\n",
            "\n",
            "5 epochs completed in 0.010 hours.\n",
            "Optimizer stripped from runs/detect/train/weights/last.pt, 6.5MB\n",
            "Optimizer stripped from runs/detect/train/weights/best.pt, 6.5MB\n",
            "\n",
            "Validating runs/detect/train/weights/best.pt...\n",
            "Ultralytics YOLOv8.0.208 🚀 Python-3.10.12 torch-2.1.0+cu118 CPU (Intel Xeon 2.20GHz)\n",
            "Model summary (fused): 168 layers, 3151904 parameters, 0 gradients, 8.7 GFLOPs\n",
            "                 Class     Images  Instances      Box(P          R      mAP50  mAP50-95): 100%|██████████| 1/1 [00:00<00:00,  1.01it/s]\n",
            "                   all          4         17      0.908      0.541      0.777      0.533\n",
            "                person          4         10      0.942        0.3      0.485      0.229\n",
            "                   dog          4          1          1          0      0.497      0.272\n",
            "                 horse          4          2          1      0.947      0.995      0.698\n",
            "              elephant          4          2          1          0      0.695      0.208\n",
            "              umbrella          4          1      0.758          1      0.995      0.895\n",
            "          potted plant          4          1      0.748          1      0.995      0.895\n",
            "Speed: 2.2ms preprocess, 230.7ms inference, 0.0ms loss, 2.6ms postprocess per image\n",
            "Results saved to \u001b[1mruns/detect/train\u001b[0m\n"
          ]
        }
      ]
    },
    {
      "cell_type": "code",
      "source": [
        "!yolo detect val model='/content/runs/detect/train/weights/best.pt'"
      ],
      "metadata": {
        "id": "dEvHSn7KTL0n",
        "colab": {
          "base_uri": "https://localhost:8080/"
        },
        "outputId": "7982081f-f32f-45e7-f7ba-07f2fd2f4c5a"
      },
      "execution_count": 20,
      "outputs": [
        {
          "output_type": "stream",
          "name": "stdout",
          "text": [
            "WARNING ⚠️ 'data' is missing. Using default 'data=coco8.yaml'.\n",
            "Ultralytics YOLOv8.0.208 🚀 Python-3.10.12 torch-2.1.0+cu118 CPU (Intel Xeon 2.20GHz)\n",
            "Model summary (fused): 168 layers, 3151904 parameters, 0 gradients, 8.7 GFLOPs\n",
            "\u001b[34m\u001b[1mval: \u001b[0mScanning /content/datasets/coco8/labels/val.cache... 4 images, 0 backgrounds, 0 corrupt: 100% 4/4 [00:00<?, ?it/s]\n",
            "                 Class     Images  Instances      Box(P          R      mAP50  mAP50-95): 100% 1/1 [00:01<00:00,  1.19s/it]\n",
            "                   all          4         17      0.908      0.541      0.777      0.533\n",
            "                person          4         10      0.942        0.3      0.485      0.229\n",
            "                   dog          4          1          1          0      0.497      0.272\n",
            "                 horse          4          2          1      0.947      0.995      0.698\n",
            "              elephant          4          2          1          0      0.695      0.208\n",
            "              umbrella          4          1      0.758          1      0.995      0.895\n",
            "          potted plant          4          1      0.748          1      0.995      0.895\n",
            "Speed: 12.5ms preprocess, 267.3ms inference, 0.0ms loss, 2.1ms postprocess per image\n",
            "Results saved to \u001b[1mruns/detect/val2\u001b[0m\n",
            "💡 Learn more at https://docs.ultralytics.com/modes/val\n"
          ]
        }
      ]
    },
    {
      "cell_type": "code",
      "source": [],
      "metadata": {
        "id": "L4t1Jsyzrj2n"
      },
      "execution_count": null,
      "outputs": []
    }
  ]
}